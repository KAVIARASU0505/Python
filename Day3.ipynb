{
  "nbformat": 4,
  "nbformat_minor": 0,
  "metadata": {
    "colab": {
      "provenance": [],
      "authorship_tag": "ABX9TyPBtoU+hmpBdKYOn8Jc8pXf",
      "include_colab_link": true
    },
    "kernelspec": {
      "name": "python3",
      "display_name": "Python 3"
    },
    "language_info": {
      "name": "python"
    }
  },
  "cells": [
    {
      "cell_type": "markdown",
      "metadata": {
        "id": "view-in-github",
        "colab_type": "text"
      },
      "source": [
        "<a href=\"https://colab.research.google.com/github/KAVIARASU0505/Python/blob/main/Day3.ipynb\" target=\"_parent\"><img src=\"https://colab.research.google.com/assets/colab-badge.svg\" alt=\"Open In Colab\"/></a>"
      ]
    },
    {
      "cell_type": "code",
      "source": [
        "new={'lion':111,'Tiger':222}\n",
        "print(new)"
      ],
      "metadata": {
        "colab": {
          "base_uri": "https://localhost:8080/"
        },
        "id": "-xqN7r0E_DFC",
        "outputId": "aaa01883-a2a7-4af1-e8a8-4992f5d68596"
      },
      "execution_count": null,
      "outputs": [
        {
          "output_type": "stream",
          "name": "stdout",
          "text": [
            "{'lion': 111, 'Tiger': 222}\n"
          ]
        }
      ]
    },
    {
      "cell_type": "code",
      "source": [
        "new['dog']=333"
      ],
      "metadata": {
        "id": "Kc2zOfQE_e0P"
      },
      "execution_count": null,
      "outputs": []
    },
    {
      "cell_type": "code",
      "source": [
        "print(new)"
      ],
      "metadata": {
        "colab": {
          "base_uri": "https://localhost:8080/"
        },
        "id": "SGd6NrwK_3fA",
        "outputId": "c21e6a73-67b0-452a-d672-4b2885785840"
      },
      "execution_count": null,
      "outputs": [
        {
          "output_type": "stream",
          "name": "stdout",
          "text": [
            "{'lion': 111, 'Tiger': 222, 'dog': 333}\n"
          ]
        }
      ]
    },
    {
      "cell_type": "code",
      "source": [
        "del new['Tiger']\n",
        "print(new)"
      ],
      "metadata": {
        "colab": {
          "base_uri": "https://localhost:8080/"
        },
        "id": "SYQfBnPnABkQ",
        "outputId": "fe4514b1-e86e-4407-8a23-0c8dcb306c33"
      },
      "execution_count": null,
      "outputs": [
        {
          "output_type": "stream",
          "name": "stdout",
          "text": [
            "{'lion': 111, 'dog': 333}\n"
          ]
        }
      ]
    },
    {
      "cell_type": "code",
      "source": [
        "sorted(new)"
      ],
      "metadata": {
        "colab": {
          "base_uri": "https://localhost:8080/"
        },
        "id": "noUwg82MALmo",
        "outputId": "8d511ea1-622f-4ae5-a0ca-b886f42ed856"
      },
      "execution_count": null,
      "outputs": [
        {
          "output_type": "execute_result",
          "data": {
            "text/plain": [
              "['dog', 'lion']"
            ]
          },
          "metadata": {},
          "execution_count": 8
        }
      ]
    },
    {
      "cell_type": "code",
      "source": [
        "list(new)"
      ],
      "metadata": {
        "colab": {
          "base_uri": "https://localhost:8080/"
        },
        "id": "NWwboCURAPlJ",
        "outputId": "3247e17f-f122-4363-e3f4-b99f42e62c54"
      },
      "execution_count": null,
      "outputs": [
        {
          "output_type": "execute_result",
          "data": {
            "text/plain": [
              "['lion', 'dog']"
            ]
          },
          "metadata": {},
          "execution_count": 9
        }
      ]
    },
    {
      "cell_type": "code",
      "source": [
        "new['lion']=333;\n",
        "print(new)"
      ],
      "metadata": {
        "colab": {
          "base_uri": "https://localhost:8080/"
        },
        "id": "1Y9LX1EsAS3P",
        "outputId": "8f92a381-5a21-4d53-d330-5bdcd93247b3"
      },
      "execution_count": null,
      "outputs": [
        {
          "output_type": "stream",
          "name": "stdout",
          "text": [
            "{'lion': 333, 'dog': 333}\n"
          ]
        }
      ]
    },
    {
      "cell_type": "code",
      "source": [
        "'Tiger' in new"
      ],
      "metadata": {
        "colab": {
          "base_uri": "https://localhost:8080/"
        },
        "id": "TVEn-Uy0AePQ",
        "outputId": "dce1b123-55d8-4c5f-d6fb-0dfca52fb2a6"
      },
      "execution_count": null,
      "outputs": [
        {
          "output_type": "execute_result",
          "data": {
            "text/plain": [
              "False"
            ]
          },
          "metadata": {},
          "execution_count": 12
        }
      ]
    },
    {
      "cell_type": "code",
      "source": [
        "\"lion\" in new"
      ],
      "metadata": {
        "colab": {
          "base_uri": "https://localhost:8080/"
        },
        "id": "JZkJLqXZAusI",
        "outputId": "fe184f56-7f02-46a4-bc64-b4f71006601d"
      },
      "execution_count": null,
      "outputs": [
        {
          "output_type": "execute_result",
          "data": {
            "text/plain": [
              "True"
            ]
          },
          "metadata": {},
          "execution_count": 13
        }
      ]
    },
    {
      "cell_type": "code",
      "source": [
        "\"lion\" not in new"
      ],
      "metadata": {
        "colab": {
          "base_uri": "https://localhost:8080/"
        },
        "id": "pGRl-SmGA24J",
        "outputId": "f3d76e96-d5ad-4d7d-d012-dc241f2798b8"
      },
      "execution_count": null,
      "outputs": [
        {
          "output_type": "execute_result",
          "data": {
            "text/plain": [
              "False"
            ]
          },
          "metadata": {},
          "execution_count": 41
        }
      ]
    },
    {
      "cell_type": "code",
      "source": [
        "\"Tiger\" not in new"
      ],
      "metadata": {
        "colab": {
          "base_uri": "https://localhost:8080/"
        },
        "id": "K6MHKklKBTIV",
        "outputId": "da97f7c0-0cb0-4cbf-e14d-cb7544b55846"
      },
      "execution_count": null,
      "outputs": [
        {
          "output_type": "execute_result",
          "data": {
            "text/plain": [
              "True"
            ]
          },
          "metadata": {},
          "execution_count": 15
        }
      ]
    },
    {
      "cell_type": "code",
      "source": [
        "new1=dict([('kavi',123),(\"Arun\",456),(\"Sanjevi\",789),(\"Jai\",279)])\n",
        "print(new1)"
      ],
      "metadata": {
        "colab": {
          "base_uri": "https://localhost:8080/"
        },
        "id": "f5T5KZ4yBXDo",
        "outputId": "360afe28-575a-40e4-9337-dd3079bae6fb"
      },
      "execution_count": null,
      "outputs": [
        {
          "output_type": "stream",
          "name": "stdout",
          "text": [
            "{'kavi': 123, 'Arun': 456, 'Sanjevi': 789, 'Jai': 279}\n"
          ]
        }
      ]
    },
    {
      "cell_type": "code",
      "source": [
        "arr1={x:x**3 for x in (5,10,20)}\n",
        "print(arr1)"
      ],
      "metadata": {
        "colab": {
          "base_uri": "https://localhost:8080/"
        },
        "id": "7NEqkYM6CaLy",
        "outputId": "99656a6f-ae15-41ef-9bf7-58ed874c06dd"
      },
      "execution_count": null,
      "outputs": [
        {
          "output_type": "stream",
          "name": "stdout",
          "text": [
            "{5: 125, 10: 1000, 20: 8000}\n"
          ]
        }
      ]
    },
    {
      "cell_type": "code",
      "source": [
        "arr2=dict(bird=766,animal=767,human=768,homosapiens=769)\n",
        "print(arr2)"
      ],
      "metadata": {
        "colab": {
          "base_uri": "https://localhost:8080/"
        },
        "id": "_OSw4mfXENLi",
        "outputId": "7cdf96ca-0a96-4fcf-ee45-855fcdeff21e"
      },
      "execution_count": null,
      "outputs": [
        {
          "output_type": "stream",
          "name": "stdout",
          "text": [
            "{'bird': 766, 'animal': 767, 'human': 768, 'homosapiens': 769}\n"
          ]
        }
      ]
    },
    {
      "cell_type": "code",
      "source": [
        "name={\"animal\":\"kangaroo\",\"bird\":\"sparrow\"}\n",
        "for a,b in name.items():\n",
        "  print(a,b)"
      ],
      "metadata": {
        "colab": {
          "base_uri": "https://localhost:8080/"
        },
        "id": "59wTKLfpZFHM",
        "outputId": "1fa2d1f1-aaae-4567-a29f-12a6b0628946"
      },
      "execution_count": null,
      "outputs": [
        {
          "output_type": "stream",
          "name": "stdout",
          "text": [
            "animal kangaroo\n",
            "bird sparrow\n"
          ]
        }
      ]
    },
    {
      "cell_type": "code",
      "source": [
        "for p,q in enumerate(['apple','orange', 'pineapple']):\n",
        "    print(p,q)\n"
      ],
      "metadata": {
        "colab": {
          "base_uri": "https://localhost:8080/"
        },
        "id": "AVS8gigxgJ03",
        "outputId": "2c0e9a4c-8800-4e47-df96-c7bc8bffeb90"
      },
      "execution_count": null,
      "outputs": [
        {
          "output_type": "stream",
          "name": "stdout",
          "text": [
            "0 apple\n",
            "1 orange\n",
            "2 pineapple\n"
          ]
        }
      ]
    },
    {
      "cell_type": "code",
      "source": [
        "arr3=['name','age','location']\n",
        "arr4=['kavi','20','TamilNadu']\n",
        "arr5=['Morning','Evening','Afternoon']\n",
        "for a,b,c in zip(arr3,arr4,arr5):\n",
        "  print(\"What is your {0}.It is {1}.Happy {2}\".format(a,b,c))"
      ],
      "metadata": {
        "colab": {
          "base_uri": "https://localhost:8080/"
        },
        "id": "UGCpxliagVyS",
        "outputId": "001da81c-cea3-44a8-c817-f1717998d246"
      },
      "execution_count": null,
      "outputs": [
        {
          "output_type": "stream",
          "name": "stdout",
          "text": [
            "What is your name.It is kavi.Happy Morning\n",
            "What is your age.It is 20.Happy Evening\n",
            "What is your location.It is TamilNadu.Happy Afternoon\n"
          ]
        }
      ]
    },
    {
      "cell_type": "code",
      "source": [
        "for i in reversed(range(1,20,3)):\n",
        "  print(i)"
      ],
      "metadata": {
        "colab": {
          "base_uri": "https://localhost:8080/"
        },
        "id": "Ie-cDqzEhzaw",
        "outputId": "15977b48-47b6-43f2-95fc-2478b759df5b"
      },
      "execution_count": null,
      "outputs": [
        {
          "output_type": "stream",
          "name": "stdout",
          "text": [
            "19\n",
            "16\n",
            "13\n",
            "10\n",
            "7\n",
            "4\n",
            "1\n"
          ]
        }
      ]
    },
    {
      "cell_type": "code",
      "source": [
        "for i in (range(1,20,3)):\n",
        "  print(i)"
      ],
      "metadata": {
        "colab": {
          "base_uri": "https://localhost:8080/"
        },
        "id": "rE_3xjbRlNhc",
        "outputId": "3183ef88-9f6d-458c-c59b-529e2155c583"
      },
      "execution_count": null,
      "outputs": [
        {
          "output_type": "stream",
          "name": "stdout",
          "text": [
            "1\n",
            "4\n",
            "7\n",
            "10\n",
            "13\n",
            "16\n",
            "19\n"
          ]
        }
      ]
    },
    {
      "cell_type": "code",
      "source": [
        "for i in sorted(range(1,20,3)):\n",
        "  print(i)"
      ],
      "metadata": {
        "colab": {
          "base_uri": "https://localhost:8080/"
        },
        "id": "srRX3RhblSMz",
        "outputId": "dc1bc997-351a-44f0-aa7f-c35de5e9c2f6"
      },
      "execution_count": null,
      "outputs": [
        {
          "output_type": "stream",
          "name": "stdout",
          "text": [
            "1\n",
            "4\n",
            "7\n",
            "10\n",
            "13\n",
            "16\n",
            "19\n"
          ]
        }
      ]
    },
    {
      "cell_type": "code",
      "source": [
        "words={\"animal\",\"lion\",\"bird\",\"sparrow\"}\n",
        "for i in sorted(set(words)):\n",
        "    print(i)\n"
      ],
      "metadata": {
        "colab": {
          "base_uri": "https://localhost:8080/"
        },
        "id": "3o-rhVBWlViG",
        "outputId": "6e6477ad-0701-4b5c-87b0-45c7b145d549"
      },
      "execution_count": null,
      "outputs": [
        {
          "output_type": "stream",
          "name": "stdout",
          "text": [
            "animal\n",
            "bird\n",
            "lion\n",
            "sparrow\n"
          ]
        }
      ]
    },
    {
      "cell_type": "code",
      "source": [
        "arr6,arr7,arr8=\"\",\"Kavi\",\"20\"\n",
        "number=arr6 or arr7 or arr8\n",
        "print(number)"
      ],
      "metadata": {
        "colab": {
          "base_uri": "https://localhost:8080/"
        },
        "id": "vkquZHhknpTG",
        "outputId": "ed2afacd-af1d-4306-ffbe-c5aeb858830f"
      },
      "execution_count": null,
      "outputs": [
        {
          "output_type": "stream",
          "name": "stdout",
          "text": [
            "Kavi\n"
          ]
        }
      ]
    },
    {
      "cell_type": "code",
      "source": [
        "arr6,arr7,arr8,arr9=\"Noname\",\"Kavi\",\"20\",\"30\"\n",
        "number=arr6 and arr7 and arr8 and arr9\n",
        "print(number)"
      ],
      "metadata": {
        "colab": {
          "base_uri": "https://localhost:8080/"
        },
        "id": "P9jfNHUWppMK",
        "outputId": "71f64ca0-67f4-4f5f-ae07-deebe8d77dc5"
      },
      "execution_count": null,
      "outputs": [
        {
          "output_type": "stream",
          "name": "stdout",
          "text": [
            "30\n"
          ]
        }
      ]
    },
    {
      "cell_type": "code",
      "source": [
        "(1,2,3)<(5,6,7)"
      ],
      "metadata": {
        "colab": {
          "base_uri": "https://localhost:8080/"
        },
        "id": "21eHSVdqqMyr",
        "outputId": "73a032ee-3fd6-4b9f-9315-1ac93c9ee184"
      },
      "execution_count": null,
      "outputs": [
        {
          "output_type": "execute_result",
          "data": {
            "text/plain": [
              "True"
            ]
          },
          "metadata": {},
          "execution_count": 87
        }
      ]
    },
    {
      "cell_type": "code",
      "source": [
        "(1,2,3)>(5,6,7)"
      ],
      "metadata": {
        "colab": {
          "base_uri": "https://localhost:8080/"
        },
        "id": "-EFWws3bqYvM",
        "outputId": "e69db577-9321-4170-84fc-9af2b054ec81"
      },
      "execution_count": null,
      "outputs": [
        {
          "output_type": "execute_result",
          "data": {
            "text/plain": [
              "False"
            ]
          },
          "metadata": {},
          "execution_count": 88
        }
      ]
    },
    {
      "cell_type": "code",
      "source": [
        "(1,2,3)<(5,6,3)"
      ],
      "metadata": {
        "colab": {
          "base_uri": "https://localhost:8080/"
        },
        "id": "iyQC0RHwqh53",
        "outputId": "e681f091-7978-41ec-c642-ec915f51ff83"
      },
      "execution_count": null,
      "outputs": [
        {
          "output_type": "execute_result",
          "data": {
            "text/plain": [
              "True"
            ]
          },
          "metadata": {},
          "execution_count": 92
        }
      ]
    },
    {
      "cell_type": "code",
      "source": [
        "(1,2,3)==(1,2,3)"
      ],
      "metadata": {
        "colab": {
          "base_uri": "https://localhost:8080/"
        },
        "id": "E1n0Kh_kqn_8",
        "outputId": "829fcb2b-b310-49ff-d3cf-578dd0dc3094"
      },
      "execution_count": null,
      "outputs": [
        {
          "output_type": "execute_result",
          "data": {
            "text/plain": [
              "True"
            ]
          },
          "metadata": {},
          "execution_count": 130
        }
      ]
    },
    {
      "cell_type": "code",
      "source": [
        "(1,2,3,4)<=(4,5)"
      ],
      "metadata": {
        "colab": {
          "base_uri": "https://localhost:8080/"
        },
        "id": "ncS3Zz8Cq0Ec",
        "outputId": "3ba7b865-cd94-4a19-e3bf-8f614bb4ae98"
      },
      "execution_count": null,
      "outputs": [
        {
          "output_type": "execute_result",
          "data": {
            "text/plain": [
              "True"
            ]
          },
          "metadata": {},
          "execution_count": 135
        }
      ]
    },
    {
      "cell_type": "code",
      "source": [
        "(1,2,3,4)<=(2,1)"
      ],
      "metadata": {
        "colab": {
          "base_uri": "https://localhost:8080/"
        },
        "id": "xTtYXtVUq8Cc",
        "outputId": "c0782052-6f2d-4f4c-8fe2-bc56e884ac15"
      },
      "execution_count": null,
      "outputs": [
        {
          "output_type": "execute_result",
          "data": {
            "text/plain": [
              "True"
            ]
          },
          "metadata": {},
          "execution_count": 138
        }
      ]
    },
    {
      "cell_type": "code",
      "source": [
        "( 1,2,2,4)<(1,2,2,5)"
      ],
      "metadata": {
        "colab": {
          "base_uri": "https://localhost:8080/"
        },
        "id": "0f2y8-hxrMvE",
        "outputId": "163ef001-5017-4b2b-dc1f-3d34fbaf457a"
      },
      "execution_count": null,
      "outputs": [
        {
          "output_type": "execute_result",
          "data": {
            "text/plain": [
              "True"
            ]
          },
          "metadata": {},
          "execution_count": 114
        }
      ]
    },
    {
      "cell_type": "code",
      "source": [
        "( 1,2,2,4)<(1,2,2,2)"
      ],
      "metadata": {
        "colab": {
          "base_uri": "https://localhost:8080/"
        },
        "id": "bQucpu8nrTns",
        "outputId": "4c78f665-5b53-4579-fb0e-646b5b804c07"
      },
      "execution_count": null,
      "outputs": [
        {
          "output_type": "execute_result",
          "data": {
            "text/plain": [
              "False"
            ]
          },
          "metadata": {},
          "execution_count": 115
        }
      ]
    },
    {
      "cell_type": "code",
      "source": [
        "'A' < 'CAC' < 'Pascalonuses' < 'Python'"
      ],
      "metadata": {
        "colab": {
          "base_uri": "https://localhost:8080/"
        },
        "id": "m_zIWxZzrsf1",
        "outputId": "84c00b47-1566-4654-e7f8-ef17f4e7c688"
      },
      "execution_count": null,
      "outputs": [
        {
          "output_type": "execute_result",
          "data": {
            "text/plain": [
              "True"
            ]
          },
          "metadata": {},
          "execution_count": 148
        }
      ]
    },
    {
      "cell_type": "code",
      "source": [
        "(1, 2, 3, 4)< (1, 2, 3,5)"
      ],
      "metadata": {
        "colab": {
          "base_uri": "https://localhost:8080/"
        },
        "id": "xYlW__CQrvU0",
        "outputId": "47f74c2b-6afa-41f9-de05-e4092c553439"
      },
      "execution_count": null,
      "outputs": [
        {
          "output_type": "execute_result",
          "data": {
            "text/plain": [
              "True"
            ]
          },
          "metadata": {},
          "execution_count": 121
        }
      ]
    },
    {
      "cell_type": "code",
      "source": [
        "print(len('ABC'))"
      ],
      "metadata": {
        "colab": {
          "base_uri": "https://localhost:8080/"
        },
        "id": "8gJT_a9br8PK",
        "outputId": "ab935087-05da-4786-d443-c728ba6ca68d"
      },
      "execution_count": null,
      "outputs": [
        {
          "output_type": "stream",
          "name": "stdout",
          "text": [
            "3\n"
          ]
        }
      ]
    },
    {
      "cell_type": "code",
      "source": [
        "3x=int(input(\"Enter any number \"))\n",
        "if x<0:\n",
        "  print(\"The values are negative\")\n",
        "elif x==0:\n",
        "  print(\"The values are greate than zero\")\n",
        "elif x==10:\n",
        "  print('The values are Neutral')\n",
        "else:\n",
        "  print('The values are greater than you estimated')"
      ],
      "metadata": {
        "colab": {
          "base_uri": "https://localhost:8080/"
        },
        "id": "aLfwvZrRt4Bc",
        "outputId": "c11eb570-7bb9-41e8-b6bc-23941db2e854"
      },
      "execution_count": 180,
      "outputs": [
        {
          "output_type": "stream",
          "name": "stdout",
          "text": [
            "Enter any number 3\n",
            "The values are greater than you estimated\n"
          ]
        }
      ]
    },
    {
      "cell_type": "code",
      "source": [
        "arr9 = ['cat', 'lion', 'Monkey']\n",
        "for a in arr9:\n",
        "   print(a, len(a))"
      ],
      "metadata": {
        "id": "F4d2I4ztzGLZ",
        "colab": {
          "base_uri": "https://localhost:8080/"
        },
        "outputId": "fd07a53b-a3b9-4e93-d715-4d3f1c30f040"
      },
      "execution_count": 183,
      "outputs": [
        {
          "output_type": "stream",
          "name": "stdout",
          "text": [
            "cat 3\n",
            "lion 4\n",
            "Monkey 6\n"
          ]
        }
      ]
    },
    {
      "cell_type": "code",
      "source": [
        "for x in range(10):\n",
        " print(x)"
      ],
      "metadata": {
        "colab": {
          "base_uri": "https://localhost:8080/"
        },
        "id": "dStvUte1KCGw",
        "outputId": "564097c7-9108-4057-db78-d4430a961f0c"
      },
      "execution_count": 185,
      "outputs": [
        {
          "output_type": "stream",
          "name": "stdout",
          "text": [
            "0\n",
            "1\n",
            "2\n",
            "3\n",
            "4\n",
            "5\n",
            "6\n",
            "7\n",
            "8\n",
            "9\n"
          ]
        }
      ]
    },
    {
      "cell_type": "code",
      "source": [
        "for x in range(5,10):\n",
        " print(x)"
      ],
      "metadata": {
        "colab": {
          "base_uri": "https://localhost:8080/"
        },
        "id": "oHFIP-AvKRQ-",
        "outputId": "057acea5-b737-410d-b6c0-b1ce6f6c9967"
      },
      "execution_count": 186,
      "outputs": [
        {
          "output_type": "stream",
          "name": "stdout",
          "text": [
            "5\n",
            "6\n",
            "7\n",
            "8\n",
            "9\n"
          ]
        }
      ]
    },
    {
      "cell_type": "code",
      "source": [
        "for x in range(5,10,2):\n",
        " print(x)"
      ],
      "metadata": {
        "colab": {
          "base_uri": "https://localhost:8080/"
        },
        "id": "bPnqPRj1KYAg",
        "outputId": "9ce01b82-12df-499f-fc8b-3043fed1c6f3"
      },
      "execution_count": 187,
      "outputs": [
        {
          "output_type": "stream",
          "name": "stdout",
          "text": [
            "5\n",
            "7\n",
            "9\n"
          ]
        }
      ]
    },
    {
      "cell_type": "code",
      "source": [
        "for x in range(1,30,5):\n",
        " print(x)"
      ],
      "metadata": {
        "colab": {
          "base_uri": "https://localhost:8080/"
        },
        "id": "SFFjHrUzKbi7",
        "outputId": "4c771013-a7a9-43da-e7a6-0c6781aa9063"
      },
      "execution_count": 188,
      "outputs": [
        {
          "output_type": "stream",
          "name": "stdout",
          "text": [
            "1\n",
            "6\n",
            "11\n",
            "16\n",
            "21\n",
            "26\n"
          ]
        }
      ]
    },
    {
      "cell_type": "code",
      "source": [
        "print(range(19))"
      ],
      "metadata": {
        "colab": {
          "base_uri": "https://localhost:8080/"
        },
        "id": "hOsrVnG4Khzr",
        "outputId": "e697bf4b-1f80-4b37-c725-97699b979410"
      },
      "execution_count": 189,
      "outputs": [
        {
          "output_type": "stream",
          "name": "stdout",
          "text": [
            "range(0, 19)\n"
          ]
        }
      ]
    },
    {
      "cell_type": "code",
      "source": [
        "a=sum(range(10))\n",
        "for i in range(10):\n",
        "  print(i)\n",
        "print(a)"
      ],
      "metadata": {
        "colab": {
          "base_uri": "https://localhost:8080/"
        },
        "id": "8UlzOosnKq_L",
        "outputId": "913f80ae-b6b1-4ec2-a09a-512ce2956be3"
      },
      "execution_count": 192,
      "outputs": [
        {
          "output_type": "stream",
          "name": "stdout",
          "text": [
            "0\n",
            "1\n",
            "2\n",
            "3\n",
            "4\n",
            "5\n",
            "6\n",
            "7\n",
            "8\n",
            "9\n",
            "45\n"
          ]
        }
      ]
    },
    {
      "cell_type": "code",
      "source": [
        "a=list(range(10))\n",
        "print(a)"
      ],
      "metadata": {
        "colab": {
          "base_uri": "https://localhost:8080/"
        },
        "id": "w09wapnRKvH-",
        "outputId": "1a7af7b7-6210-4002-ff52-a009235447cc"
      },
      "execution_count": 194,
      "outputs": [
        {
          "output_type": "stream",
          "name": "stdout",
          "text": [
            "[0, 1, 2, 3, 4, 5, 6, 7, 8, 9]\n"
          ]
        }
      ]
    },
    {
      "cell_type": "code",
      "source": [
        "a=[0, 1, 2, 3, 4, 5, 6, 7, 8, 9]\n",
        "for i in a:\n",
        "  if(i==len(a)-1):\n",
        "    break\n",
        "  else:\n",
        "    print(i)\n"
      ],
      "metadata": {
        "colab": {
          "base_uri": "https://localhost:8080/"
        },
        "id": "LDbUyfAOLFDx",
        "outputId": "ab7c5f82-675b-49bb-837c-c505fc47afe8"
      },
      "execution_count": 198,
      "outputs": [
        {
          "output_type": "stream",
          "name": "stdout",
          "text": [
            "0\n",
            "1\n",
            "2\n",
            "3\n",
            "4\n",
            "5\n",
            "6\n",
            "7\n",
            "8\n"
          ]
        }
      ]
    },
    {
      "cell_type": "code",
      "source": [
        "a=[0, 1, 2, 3, 4, 5, 6, 7, 8, 9]\n",
        "for i in a:\n",
        "  if(i==len(a)-3):\n",
        "    continue\n",
        "  else:\n",
        "    print(i)"
      ],
      "metadata": {
        "colab": {
          "base_uri": "https://localhost:8080/"
        },
        "id": "x43dBH49L2ea",
        "outputId": "95eef8c4-41a3-43ba-8894-f2eb515c965f"
      },
      "execution_count": 199,
      "outputs": [
        {
          "output_type": "stream",
          "name": "stdout",
          "text": [
            "0\n",
            "1\n",
            "2\n",
            "3\n",
            "4\n",
            "5\n",
            "6\n",
            "8\n",
            "9\n"
          ]
        }
      ]
    },
    {
      "cell_type": "code",
      "source": [],
      "metadata": {
        "id": "kN-tUT7BOOF_"
      },
      "execution_count": null,
      "outputs": []
    },
    {
      "cell_type": "code",
      "source": [],
      "metadata": {
        "id": "Idiq-oJMONBj"
      },
      "execution_count": null,
      "outputs": []
    },
    {
      "cell_type": "code",
      "source": [],
      "metadata": {
        "id": "90PhqHZEMgYs"
      },
      "execution_count": null,
      "outputs": []
    },
    {
      "cell_type": "markdown",
      "source": [],
      "metadata": {
        "id": "eq1RA91POLJU"
      }
    }
  ]
}