{
  "nbformat": 4,
  "nbformat_minor": 0,
  "metadata": {
    "colab": {
      "provenance": [],
      "authorship_tag": "ABX9TyOP6ROBwVqgQJSp/Xbh3n4I",
      "include_colab_link": true
    },
    "kernelspec": {
      "name": "python3",
      "display_name": "Python 3"
    },
    "language_info": {
      "name": "python"
    }
  },
  "cells": [
    {
      "cell_type": "markdown",
      "metadata": {
        "id": "view-in-github",
        "colab_type": "text"
      },
      "source": [
        "<a href=\"https://colab.research.google.com/github/KAVIARASU0505/Python/blob/main/Day4.ipynb\" target=\"_parent\"><img src=\"https://colab.research.google.com/assets/colab-badge.svg\" alt=\"Open In Colab\"/></a>"
      ]
    },
    {
      "cell_type": "code",
      "execution_count": null,
      "metadata": {
        "id": "DepTl2aEFJxJ"
      },
      "outputs": [],
      "source": [
        "x=[1,2,3]\n",
        "for i in x:\n",
        "   pass\n"
      ]
    },
    {
      "cell_type": "code",
      "source": [
        "#defining Function - Fibonacci series\n",
        "def fun(n):\n",
        "     a, b=1, 2\n",
        "     while a < n:\n",
        "        a=b\n",
        "        b=a+b\n",
        "        if n<=a+b:\n",
        "          print(a)\n",
        "        else:\n",
        "          print(a,end=\" \")\n",
        "fun(1000)"
      ],
      "metadata": {
        "colab": {
          "base_uri": "https://localhost:8080/"
        },
        "id": "dI7S0F4aFijL",
        "outputId": "b75259ca-dc37-4559-d775-e205662daf7f"
      },
      "execution_count": null,
      "outputs": [
        {
          "output_type": "stream",
          "name": "stdout",
          "text": [
            "2 4 8 16 32 64 128 256 512\n",
            "1024\n"
          ]
        }
      ]
    },
    {
      "cell_type": "code",
      "source": [
        "def fun1(n):\n",
        "     newarr=[]\n",
        "     a, b=1, 2\n",
        "     while a < n:\n",
        "        a=b\n",
        "        b=a+b\n",
        "        newarr.append(a)\n",
        "     return newarr\n",
        "fun=fun1(200)\n",
        "print(fun)"
      ],
      "metadata": {
        "colab": {
          "base_uri": "https://localhost:8080/"
        },
        "id": "h04YUMwHIepE",
        "outputId": "f9ec27af-1099-42e3-ed7c-c555350a6deb"
      },
      "execution_count": null,
      "outputs": [
        {
          "output_type": "stream",
          "name": "stdout",
          "text": [
            "[2, 4, 8, 16, 32, 64, 128, 256]\n"
          ]
        }
      ]
    },
    {
      "cell_type": "code",
      "source": [
        "def new(uinput,retries=2,fail='Try after some times!'):\n",
        "  for i in range(10):\n",
        "   inp=input(uinput)\n",
        "   if inp in ('y','yes','yeah'):\n",
        "     return True\n",
        "   if inp in ('no','n','nothing'):\n",
        "     return False\n",
        "   retries=retries-1\n",
        "   if (retries < 0):\n",
        "      raise ValueError('Invalid User')\n",
        "   print(fail)\n",
        "new('Are you okay?')"
      ],
      "metadata": {
        "colab": {
          "base_uri": "https://localhost:8080/"
        },
        "id": "8jnnYzOeNHCz",
        "outputId": "5d1130ce-55f9-4db4-bd50-96eb0422bb41"
      },
      "execution_count": null,
      "outputs": [
        {
          "name": "stdout",
          "output_type": "stream",
          "text": [
            "Are you okay?y\n"
          ]
        },
        {
          "output_type": "execute_result",
          "data": {
            "text/plain": [
              "True"
            ]
          },
          "metadata": {},
          "execution_count": 60
        }
      ]
    },
    {
      "cell_type": "code",
      "source": [
        "i=10\n",
        "def new(s=i):\n",
        "  print(s)\n",
        "i=20\n",
        "new()"
      ],
      "metadata": {
        "colab": {
          "base_uri": "https://localhost:8080/"
        },
        "id": "wBGDF0WPUcSU",
        "outputId": "fb1b81fc-d3ca-4012-f1d9-006128f637e9"
      },
      "execution_count": null,
      "outputs": [
        {
          "output_type": "stream",
          "name": "stdout",
          "text": [
            "10\n"
          ]
        }
      ]
    },
    {
      "cell_type": "code",
      "source": [
        "def l(a,l=[]):\n",
        "  l.append(a)\n",
        "  return l\n",
        "print(l(1))\n",
        "print(l(6))\n",
        "print(l(4))"
      ],
      "metadata": {
        "colab": {
          "base_uri": "https://localhost:8080/"
        },
        "id": "EzBo3Vfbdwa-",
        "outputId": "34dbe243-5bed-4162-c2da-678c31f46cdf"
      },
      "execution_count": null,
      "outputs": [
        {
          "output_type": "stream",
          "name": "stdout",
          "text": [
            "[1]\n",
            "[1, 6]\n",
            "[1, 6, 4]\n"
          ]
        }
      ]
    },
    {
      "cell_type": "code",
      "source": [
        "def l(a,l=None):\n",
        "  if l is None:\n",
        "     l=[]\n",
        "  l.append(a)\n",
        "  return l\n",
        "print(l(1))\n",
        "print(l(6))\n",
        "print(l(4))"
      ],
      "metadata": {
        "colab": {
          "base_uri": "https://localhost:8080/"
        },
        "id": "S0pMyvFQflrr",
        "outputId": "edcbbe6c-dd1f-40eb-a864-0c7057cbe4b9"
      },
      "execution_count": null,
      "outputs": [
        {
          "output_type": "stream",
          "name": "stdout",
          "text": [
            "[1]\n",
            "[6]\n",
            "[4]\n"
          ]
        }
      ]
    },
    {
      "cell_type": "code",
      "source": [
        "def animal(name,year=\"1999\",Behaviour=\"Not Worthy\",state=\"Worth\"):\n",
        "  print(\"The name of the animal is\",name,end=\"\\n\")\n",
        "  print(\"The year is \",year,end=\"\\n\")\n",
        "  print(\"The Behaviour of the animal is\",Behaviour,end=\"\\n\")\n",
        "  print(\"The state of the animal is\",state,end=\"\\n\\n\\n\\n\")\n",
        "print(animal(\"Lion\",\"1977\")) \n",
        "print(animal(\"Tiger\",\"1978\",Behaviour=\"Not Bad\",state=\"Not Worthy\"))\n",
        "print(animal(\"Kangaroo\",\"1985\",Behaviour=\"Good\",state=\"Worthy\"))\n",
        "print(animal(name=\"None\"))"
      ],
      "metadata": {
        "colab": {
          "base_uri": "https://localhost:8080/"
        },
        "id": "FFHRUQZhgUh2",
        "outputId": "e639c0d3-e81e-46c1-9a2b-bd6171ebb386"
      },
      "execution_count": null,
      "outputs": [
        {
          "output_type": "stream",
          "name": "stdout",
          "text": [
            "The name of the animal is Lion\n",
            "The year is  1977\n",
            "The Behaviour of the animal is Not Worthy\n",
            "The state of the animal is Worth\n",
            "\n",
            "\n",
            "\n",
            "None\n",
            "The name of the animal is Tiger\n",
            "The year is  1978\n",
            "The Behaviour of the animal is Not Bad\n",
            "The state of the animal is Not Worthy\n",
            "\n",
            "\n",
            "\n",
            "None\n",
            "The name of the animal is Kangaroo\n",
            "The year is  1985\n",
            "The Behaviour of the animal is Good\n",
            "The state of the animal is Worthy\n",
            "\n",
            "\n",
            "\n",
            "None\n",
            "The name of the animal is None\n",
            "The year is  1999\n",
            "The Behaviour of the animal is Not Worthy\n",
            "The state of the animal is Worth\n",
            "\n",
            "\n",
            "\n",
            "None\n"
          ]
        }
      ]
    },
    {
      "cell_type": "code",
      "source": [
        "def fun(new,*val,**vals):\n",
        "  print(\"Here is Your\",new)\n",
        "  print(\"The \"+new+\" is worthy\")\n",
        "  print('_'*60)\n",
        "  print(\"Remaining will be printed\")\n",
        "  for arg in val:\n",
        "    print(arg)\n",
        "  for args in vals:\n",
        "    print(args +\":\"+vals[args])\n",
        "fun(\"document\",\"Remaining will be printed\",\"Remaining will be printed\",name=\"kavi\",age=\"21\",year=\"2002\")"
      ],
      "metadata": {
        "colab": {
          "base_uri": "https://localhost:8080/"
        },
        "id": "u73mUtZLjFeA",
        "outputId": "9a282ab7-61b6-49c7-b471-e8c8706a4f8b"
      },
      "execution_count": null,
      "outputs": [
        {
          "output_type": "stream",
          "name": "stdout",
          "text": [
            "Here is Your document\n",
            "The document is worthy\n",
            "____________________________________________________________\n",
            "Remaining will be printed\n",
            "Remaining will be printed\n",
            "Remaining will be printed\n",
            "name:kavi\n",
            "age:21\n",
            "year:2002\n"
          ]
        }
      ]
    },
    {
      "cell_type": "code",
      "source": [
        "def fun(n,/):\n",
        "  print(n)\n",
        "fun(1)"
      ],
      "metadata": {
        "colab": {
          "base_uri": "https://localhost:8080/"
        },
        "id": "5QhITq0QrMy0",
        "outputId": "bc1d3368-cd7c-4f27-a399-3d869032cdd2"
      },
      "execution_count": null,
      "outputs": [
        {
          "output_type": "stream",
          "name": "stdout",
          "text": [
            "1\n"
          ]
        }
      ]
    },
    {
      "cell_type": "code",
      "source": [
        "def new1(arg,/):#Not keywords are allowed\n",
        "  print(arg)\n",
        "def new2(*,arg): #Keywords only allowed\n",
        "  print(arg)\n",
        "def new3(arg,/,*,arg1):\n",
        "  print(\"The arg is\",arg+\" \"+\"The keyword is \",arg1)\n",
        "new1(\"Kavi\")\n",
        "new2(arg=\"kavi\")\n",
        "new3(\"Kavi\",arg1=\"kavi\")   "
      ],
      "metadata": {
        "colab": {
          "base_uri": "https://localhost:8080/"
        },
        "id": "A4RnPCZPw5BI",
        "outputId": "2e3e99c9-50ce-418f-d054-ae53c6ecc387"
      },
      "execution_count": null,
      "outputs": [
        {
          "output_type": "stream",
          "name": "stdout",
          "text": [
            "Kavi\n",
            "kavi\n",
            "The arg is Kavi The keyword is  kavi\n"
          ]
        }
      ]
    },
    {
      "cell_type": "code",
      "source": [
        "def fun(name,/,**kwds):\n",
        "   return 'val' in kwds\n",
        "fun('kavi',**{'val': 2})"
      ],
      "metadata": {
        "colab": {
          "base_uri": "https://localhost:8080/"
        },
        "id": "D0zX-ddMyAiY",
        "outputId": "15525e8e-971d-4ce6-b3b6-97859077bfbf"
      },
      "execution_count": null,
      "outputs": [
        {
          "output_type": "execute_result",
          "data": {
            "text/plain": [
              "True"
            ]
          },
          "metadata": {},
          "execution_count": 158
        }
      ]
    },
    {
      "cell_type": "code",
      "source": [
        "def numbers(*args,sp='/'):\n",
        "  return sp.join(args)\n",
        "numbers('one','two','three')"
      ],
      "metadata": {
        "id": "Jzki4LyPL2c5",
        "colab": {
          "base_uri": "https://localhost:8080/",
          "height": 35
        },
        "outputId": "6ccc7f98-752d-4f19-cac1-72fe3734c07a"
      },
      "execution_count": null,
      "outputs": [
        {
          "output_type": "execute_result",
          "data": {
            "text/plain": [
              "'one/two/three'"
            ],
            "application/vnd.google.colaboratory.intrinsic+json": {
              "type": "string"
            }
          },
          "metadata": {},
          "execution_count": 1
        }
      ]
    },
    {
      "cell_type": "code",
      "source": [
        "set(range(10))"
      ],
      "metadata": {
        "colab": {
          "base_uri": "https://localhost:8080/"
        },
        "id": "BN0-yI5DlGsg",
        "outputId": "a13b76f8-0480-48d8-c1b7-c8acde6dd5b7"
      },
      "execution_count": null,
      "outputs": [
        {
          "output_type": "execute_result",
          "data": {
            "text/plain": [
              "{0, 1, 2, 3, 4, 5, 6, 7, 8, 9}"
            ]
          },
          "metadata": {},
          "execution_count": 2
        }
      ]
    },
    {
      "cell_type": "code",
      "source": [
        "arr=[3,9]\n",
        "list(range(*arr))"
      ],
      "metadata": {
        "colab": {
          "base_uri": "https://localhost:8080/"
        },
        "id": "yuQarUcYli5Q",
        "outputId": "a5f5e330-8350-42c4-a640-9acf1c1e5180"
      },
      "execution_count": null,
      "outputs": [
        {
          "output_type": "execute_result",
          "data": {
            "text/plain": [
              "[3, 4, 5, 6, 7, 8]"
            ]
          },
          "metadata": {},
          "execution_count": 3
        }
      ]
    },
    {
      "cell_type": "code",
      "source": [
        "add=lambda num:num+5\n",
        "add(5)"
      ],
      "metadata": {
        "colab": {
          "base_uri": "https://localhost:8080/"
        },
        "id": "yQKEj86nl2cI",
        "outputId": "ec5f2cea-9ec5-45ef-b5cf-c8c00e51fc22"
      },
      "execution_count": null,
      "outputs": [
        {
          "output_type": "execute_result",
          "data": {
            "text/plain": [
              "10"
            ]
          },
          "metadata": {},
          "execution_count": 7
        }
      ]
    },
    {
      "cell_type": "code",
      "source": [
        "def increment(v):\n",
        "  return lambda y:y+v\n",
        "f=increment(5)\n",
        "f(10)"
      ],
      "metadata": {
        "colab": {
          "base_uri": "https://localhost:8080/"
        },
        "id": "ZUBdLgozpuFQ",
        "outputId": "45313a3f-53c6-4112-f214-ccaa5e2074f4"
      },
      "execution_count": null,
      "outputs": [
        {
          "output_type": "execute_result",
          "data": {
            "text/plain": [
              "15"
            ]
          },
          "metadata": {},
          "execution_count": 15
        }
      ]
    },
    {
      "cell_type": "code",
      "source": [
        "n=5\n",
        "while(n>0):\n",
        "  print(n)\n",
        "  n=n-1"
      ],
      "metadata": {
        "id": "-Wign8lrsx_G",
        "colab": {
          "base_uri": "https://localhost:8080/"
        },
        "outputId": "aae8413c-79f5-480d-9155-56e56fd3d957"
      },
      "execution_count": null,
      "outputs": [
        {
          "output_type": "stream",
          "name": "stdout",
          "text": [
            "5\n",
            "4\n",
            "3\n",
            "2\n",
            "1\n"
          ]
        }
      ]
    },
    {
      "cell_type": "code",
      "source": [
        "a=['arr','arr1','arr3']\n",
        "while a:\n",
        "  print(a.pop(-1))"
      ],
      "metadata": {
        "colab": {
          "base_uri": "https://localhost:8080/"
        },
        "id": "dTHXzAGqwEGj",
        "outputId": "1037c723-d51c-40b6-c668-3248e047f0b2"
      },
      "execution_count": null,
      "outputs": [
        {
          "output_type": "stream",
          "name": "stdout",
          "text": [
            "arr3\n",
            "arr1\n",
            "arr\n"
          ]
        }
      ]
    },
    {
      "cell_type": "code",
      "source": [
        "a=10\n",
        "while a>0:\n",
        "  if a==5:\n",
        "    a=a-1\n",
        "    continue\n",
        "  else:\n",
        "    print(a)\n",
        "    a=a-1"
      ],
      "metadata": {
        "colab": {
          "base_uri": "https://localhost:8080/"
        },
        "id": "eewyocUQ4DQ0",
        "outputId": "074ee0fe-a352-4b94-ab02-7cbe6060fa0d"
      },
      "execution_count": null,
      "outputs": [
        {
          "output_type": "stream",
          "name": "stdout",
          "text": [
            "10\n",
            "9\n",
            "8\n",
            "7\n",
            "6\n",
            "4\n",
            "3\n",
            "2\n",
            "1\n"
          ]
        }
      ]
    },
    {
      "cell_type": "code",
      "source": [
        "a=100\n",
        "while a>0:\n",
        "  if a==50:\n",
        "    break\n",
        "  else:\n",
        "    print(a,end=\" \")\n",
        "    a=a-1\n",
        "    "
      ],
      "metadata": {
        "colab": {
          "base_uri": "https://localhost:8080/"
        },
        "id": "mTQ1yDMd4mld",
        "outputId": "ec9c9ca2-a538-46bb-93d9-560db6fb7822"
      },
      "execution_count": null,
      "outputs": [
        {
          "output_type": "stream",
          "name": "stdout",
          "text": [
            "100 99 98 97 96 95 94 93 92 91 90 89 88 87 86 85 84 83 82 81 80 79 78 77 76 75 74 73 72 71 70 69 68 67 66 65 64 63 62 61 60 59 58 57 56 55 54 53 52 51 "
          ]
        }
      ]
    },
    {
      "cell_type": "code",
      "source": [
        "a=30\n",
        "while a>0:\n",
        " print(a,end=\" \")\n",
        " a=a-4\n",
        "else:\n",
        "    print(\"\\n\")\n",
        "    print(\"The Loop is Over.\")"
      ],
      "metadata": {
        "colab": {
          "base_uri": "https://localhost:8080/"
        },
        "id": "57qqRgXuAKvB",
        "outputId": "64c5f96f-f80f-4cc8-84ed-bdb95b549679"
      },
      "execution_count": null,
      "outputs": [
        {
          "output_type": "stream",
          "name": "stdout",
          "text": [
            "30 26 22 18 14 10 6 2 \n",
            "\n",
            "The Loop is Over.\n"
          ]
        }
      ]
    },
    {
      "cell_type": "code",
      "source": [
        "a=30\n",
        "while a>0:\n",
        " print(a,end=\" \")\n",
        " a=a-4\n",
        " if a==18:\n",
        "   break\n",
        "else:  #The else condition is not performed because already break achieves in the while loop.\n",
        "    print(\"\\n\")\n",
        "    print(\"The Loop is Over.\")"
      ],
      "metadata": {
        "colab": {
          "base_uri": "https://localhost:8080/"
        },
        "id": "rYOZuqyGAzIs",
        "outputId": "d2273ace-4893-4632-863a-70a22068d652"
      },
      "execution_count": null,
      "outputs": [
        {
          "output_type": "stream",
          "name": "stdout",
          "text": [
            "30 26 22 "
          ]
        }
      ]
    },
    {
      "cell_type": "code",
      "source": [],
      "metadata": {
        "id": "cXwHAom_Bwq2"
      },
      "execution_count": null,
      "outputs": []
    }
  ]
}