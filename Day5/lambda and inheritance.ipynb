{
  "nbformat": 4,
  "nbformat_minor": 0,
  "metadata": {
    "colab": {
      "provenance": [],
      "authorship_tag": "ABX9TyO20sXMaitMis5bdlcjvOk1",
      "include_colab_link": true
    },
    "kernelspec": {
      "name": "python3",
      "display_name": "Python 3"
    },
    "language_info": {
      "name": "python"
    }
  },
  "cells": [
    {
      "cell_type": "markdown",
      "metadata": {
        "id": "view-in-github",
        "colab_type": "text"
      },
      "source": [
        "<a href=\"https://colab.research.google.com/github/KAVIARASU0505/Python/blob/main/Day5.ipynb\" target=\"_parent\"><img src=\"https://colab.research.google.com/assets/colab-badge.svg\" alt=\"Open In Colab\"/></a>"
      ]
    },
    {
      "cell_type": "code",
      "execution_count": null,
      "metadata": {
        "colab": {
          "base_uri": "https://localhost:8080/"
        },
        "id": "FreIYX7jLKXz",
        "outputId": "a65776e3-24c1-4540-80d6-0e5a74940f1e"
      },
      "outputs": [
        {
          "output_type": "stream",
          "name": "stdout",
          "text": [
            "2\n"
          ]
        }
      ],
      "source": [
        "Max=lambda a,b:a if(a > b) else b\n",
        "print(Max(1, 2))"
      ]
    },
    {
      "cell_type": "code",
      "source": [
        "lis=[15,25,30,43,50]\n",
        "fun=list(filter(lambda y:(y%2!=0),lis))\n",
        "print(fun)"
      ],
      "metadata": {
        "colab": {
          "base_uri": "https://localhost:8080/"
        },
        "id": "Luoy_gVERKnr",
        "outputId": "5f0f567b-70fd-4896-8ebc-8803732b029f"
      },
      "execution_count": null,
      "outputs": [
        {
          "output_type": "stream",
          "name": "stdout",
          "text": [
            "[15, 25, 43]\n"
          ]
        }
      ]
    },
    {
      "cell_type": "code",
      "source": [
        "lis = [4,8,12,16,20]\n",
        "fun=list(map(lambda x: x*2, lis))\n",
        "print(fun)"
      ],
      "metadata": {
        "colab": {
          "base_uri": "https://localhost:8080/"
        },
        "id": "QdJfnNyaRvzT",
        "outputId": "d44bdcba-a687-4641-9803-f1c617a3450f"
      },
      "execution_count": null,
      "outputs": [
        {
          "output_type": "stream",
          "name": "stdout",
          "text": [
            "[8, 16, 24, 32, 40]\n"
          ]
        }
      ]
    },
    {
      "cell_type": "code",
      "source": [
        "animal=['lion','cat','donkey','Tiger']\n",
        "fun=list(map(lambda ani:ani.upper(),animal))\n",
        "print(fun)"
      ],
      "metadata": {
        "colab": {
          "base_uri": "https://localhost:8080/"
        },
        "id": "bVnubnvfSB-l",
        "outputId": "58051335-52c8-4175-d140-bdf16b508462"
      },
      "execution_count": null,
      "outputs": [
        {
          "output_type": "stream",
          "name": "stdout",
          "text": [
            "['LION', 'CAT', 'DONKEY', 'TIGER']\n"
          ]
        }
      ]
    },
    {
      "cell_type": "code",
      "source": [
        "arr=[lambda val=x:val*10 for x in range(10,20)]\n",
        "for ans in arr:\n",
        "    print(ans())"
      ],
      "metadata": {
        "colab": {
          "base_uri": "https://localhost:8080/"
        },
        "id": "y0k0yp8OSj5s",
        "outputId": "08c994af-200e-45fd-a1c2-797b09a5c574"
      },
      "execution_count": null,
      "outputs": [
        {
          "output_type": "stream",
          "name": "stdout",
          "text": [
            "100\n",
            "110\n",
            "120\n",
            "130\n",
            "140\n",
            "150\n",
            "160\n",
            "170\n",
            "180\n",
            "190\n"
          ]
        }
      ]
    },
    {
      "cell_type": "code",
      "source": [
        "a=\"I am your Content\"\n",
        "'''It is \n",
        "the documentation string in \n",
        "python'''\n",
        "a"
      ],
      "metadata": {
        "colab": {
          "base_uri": "https://localhost:8080/",
          "height": 35
        },
        "id": "7cflVf_lVSUY",
        "outputId": "539dea84-bb3d-46a1-a23e-88e56f600315"
      },
      "execution_count": null,
      "outputs": [
        {
          "output_type": "execute_result",
          "data": {
            "text/plain": [
              "'I am your Content'"
            ],
            "application/vnd.google.colaboratory.intrinsic+json": {
              "type": "string"
            }
          },
          "metadata": {},
          "execution_count": 24
        }
      ]
    },
    {
      "cell_type": "code",
      "source": [
        "a=\"I am your Content\"\n",
        "'''It is \n",
        "the documentation string in \n",
        "python'''\n",
        "print(__doc__)\n",
        "print(a)"
      ],
      "metadata": {
        "colab": {
          "base_uri": "https://localhost:8080/"
        },
        "id": "BIsEhk0ydkiU",
        "outputId": "fac577a6-e683-4d97-eac7-68d826b66845"
      },
      "execution_count": null,
      "outputs": [
        {
          "output_type": "stream",
          "name": "stdout",
          "text": [
            "It is \n",
            "the documentation string in \n",
            "python\n",
            "I am your Content\n"
          ]
        }
      ]
    },
    {
      "cell_type": "code",
      "source": [
        "def fun():\n",
        "  \"\"\"I am your \n",
        "      friend.\n",
        "    I am your\n",
        "      enemy\"\"\"\n",
        "print(fun.__doc__)"
      ],
      "metadata": {
        "colab": {
          "base_uri": "https://localhost:8080/"
        },
        "id": "NgSPKNbZfOuF",
        "outputId": "26d42475-d087-4c19-e380-dc7a65aebf40"
      },
      "execution_count": null,
      "outputs": [
        {
          "output_type": "stream",
          "name": "stdout",
          "text": [
            "I am your \n",
            "      friend.\n",
            "    I am your\n",
            "      enemy\n"
          ]
        }
      ]
    },
    {
      "cell_type": "code",
      "source": [
        "class Fun:\n",
        "  def __init__(self,name,year):\n",
        "   self.name=name\n",
        "   self.year=year\n",
        "s=Fun(\"Kavi\",2002)\n",
        "print(s.name)\n",
        "print(s.year)"
      ],
      "metadata": {
        "id": "0h8zUYmYgSvv",
        "colab": {
          "base_uri": "https://localhost:8080/"
        },
        "outputId": "d49526c8-793f-43fe-c9d3-194822eda08f"
      },
      "execution_count": null,
      "outputs": [
        {
          "output_type": "stream",
          "name": "stdout",
          "text": [
            "Kavi\n",
            "2002\n"
          ]
        }
      ]
    },
    {
      "cell_type": "code",
      "source": [
        "class Fun:\n",
        "  def __init__(self,name,year):\n",
        "   self.name=name\n",
        "   self.year=year\n",
        "  def num(n):\n",
        "    print(\"My name is\",n.name)\n",
        "    print(\"My birth year is \",n.year)\n",
        "s=Fun(\"Kavi\",2002)\n",
        "s.num()\n"
      ],
      "metadata": {
        "colab": {
          "base_uri": "https://localhost:8080/"
        },
        "id": "D25g6S1sWoY-",
        "outputId": "773eb127-cd10-4b9d-e493-a57bd0ba4430"
      },
      "execution_count": null,
      "outputs": [
        {
          "output_type": "stream",
          "name": "stdout",
          "text": [
            "My name is Kavi\n",
            "My birth year is  2002\n"
          ]
        }
      ]
    },
    {
      "cell_type": "code",
      "source": [
        "class Fun:\n",
        "  def __init__(self,name,year):\n",
        "   self.name=name\n",
        "   self.year=year\n",
        "   print(\"Name is\",name)\n",
        "   print(\"The year is\",year)\n",
        "  def num(n):\n",
        "    print(\"My name is\",n.name)\n",
        "    print(\"My birth year is \",n.year)\n",
        "s=Fun(\"Kavi\",2002)\n",
        "s.inpu=20\n",
        "while s.inpu<50:\n",
        "  s.inpu=s.inpu*4\n",
        "print(s.inpu)\n"
      ],
      "metadata": {
        "colab": {
          "base_uri": "https://localhost:8080/"
        },
        "id": "gDiVbWv2XKib",
        "outputId": "2ea69fb5-4612-46d6-fc61-3fcc9d6e89b3"
      },
      "execution_count": null,
      "outputs": [
        {
          "output_type": "stream",
          "name": "stdout",
          "text": [
            "Name is Kavi\n",
            "The year is 2002\n",
            "80\n"
          ]
        }
      ]
    },
    {
      "cell_type": "code",
      "source": [
        "class Animal:\n",
        "  name1=\"Lion\"\n",
        "  new=[]\n",
        "  def __init__(self,nickname):\n",
        "    self.name=nickname\n",
        "  def fun(self,add):\n",
        "    self.new.append(add)\n",
        "p=Animal(\"Tiger\")\n",
        "q=Animal(\"Girafee\")\n",
        "q.fun(\"Donkey\")\n",
        "q.fun(\"Elephant\")\n",
        "print(p.name)\n",
        "print(Animal.new)\n",
        "print(q.name)\n",
        "print(q.name1)\n",
        "print(p.name1)"
      ],
      "metadata": {
        "colab": {
          "base_uri": "https://localhost:8080/"
        },
        "id": "-Wvd9k13Xn56",
        "outputId": "74a333c0-6bc2-4ea9-a519-b961398f5f23"
      },
      "execution_count": null,
      "outputs": [
        {
          "output_type": "stream",
          "name": "stdout",
          "text": [
            "Tiger\n",
            "['Donkey', 'Elephant']\n",
            "Girafee\n",
            "Lion\n",
            "Lion\n"
          ]
        }
      ]
    },
    {
      "cell_type": "code",
      "source": [
        "class Animal:\n",
        "  def __init__(self,nickname):\n",
        "    self.name=nickname\n",
        "    self.new=[]\n",
        "  def fun(self,add):\n",
        "    self.new.append(add)\n",
        "p=Animal(\"Tiger\")\n",
        "q=Animal(\"Girafee\")\n",
        "q.fun(\"Donkey\")\n",
        "p.fun(\"Elephant\")\n",
        "print(p.name)\n",
        "print(q.name)\n",
        "print(set(q.new))\n",
        "print(p.new)"
      ],
      "metadata": {
        "colab": {
          "base_uri": "https://localhost:8080/"
        },
        "id": "Kk6KiJAhc__h",
        "outputId": "b5b42e58-d4a2-4cfe-df32-079456f3de08"
      },
      "execution_count": null,
      "outputs": [
        {
          "output_type": "stream",
          "name": "stdout",
          "text": [
            "Tiger\n",
            "Girafee\n",
            "{'Donkey'}\n",
            "['Elephant']\n"
          ]
        }
      ]
    },
    {
      "cell_type": "code",
      "source": [
        "class birds:\n",
        "  name=\"sparrow\"\n",
        "  age=\"2 years\"\n",
        "print(birds.name)\n",
        "print(birds.age)\n",
        "birds.age=\"3 Years\"\n",
        "print(birds.age)"
      ],
      "metadata": {
        "colab": {
          "base_uri": "https://localhost:8080/"
        },
        "id": "IeveEL4Iekoy",
        "outputId": "43f1334f-88f8-4e40-a103-62432684ec65"
      },
      "execution_count": null,
      "outputs": [
        {
          "output_type": "stream",
          "name": "stdout",
          "text": [
            "sparrow\n",
            "2 years\n",
            "3 Years\n"
          ]
        }
      ]
    },
    {
      "cell_type": "code",
      "source": [
        "def fun():\n",
        "  p=input(\"New climate\")\n",
        "  q=input(\"The Stage is\")\n",
        "  return print(\"The climate is change to \"+p,end=\" \"+\"The stage is change to\"+q)\n",
        "class Environment:\n",
        "  def __init__(self,climate,stage):\n",
        "    self.climate=climate\n",
        "    self.stage=stage\n",
        "    print(\"The climate is\",climate)\n",
        "    print(\"The stage of the climate is\",stage)\n",
        "    f=fun()\n",
        "E=Environment(\"Chill\",\"1st stage\")"
      ],
      "metadata": {
        "colab": {
          "base_uri": "https://localhost:8080/"
        },
        "id": "tpxaquwYfutq",
        "outputId": "31bcba94-fbc9-4e9c-8e3f-ac89dfaf24de"
      },
      "execution_count": null,
      "outputs": [
        {
          "output_type": "stream",
          "name": "stdout",
          "text": [
            "The climate is Chill\n",
            "The stage of the climate is 1st stage\n",
            "New climatefs\n",
            "The Stage issf\n",
            "The climate is change to fs The stage is change tosf"
          ]
        }
      ]
    },
    {
      "cell_type": "code",
      "source": [
        "class Category:\n",
        "  def __init__(self,new1):\n",
        "    self.new2=new1\n",
        "    self.data=[]\n",
        "  def envi(m,name):\n",
        "    m.data.append(name)\n",
        "  def includes(n,new):\n",
        "    n.envi(new)\n",
        "    n.envi(new)\n",
        "C=Category(\"Kavi\")\n",
        "C.includes(\"Ravi\")\n",
        "print(C.data)"
      ],
      "metadata": {
        "colab": {
          "base_uri": "https://localhost:8080/"
        },
        "id": "w_YtdGdkg7Xz",
        "outputId": "51eb85d1-dbfb-4a8b-e0fa-af2429a42264"
      },
      "execution_count": null,
      "outputs": [
        {
          "output_type": "stream",
          "name": "stdout",
          "text": [
            "['Ravi', 'Ravi']\n"
          ]
        }
      ]
    },
    {
      "cell_type": "code",
      "source": [
        "#Inheritance\n",
        "class Animal:\n",
        "  def fun(name):\n",
        "    print(\"The name of the animal is\",name)\n",
        "class Animal1(Animal):\n",
        "  def newone(name):\n",
        "     print(\"The name of the animal1 is\",name)\n",
        "A=Animal.fun(\"Dog\")\n",
        "A1=Animal1.newone(\"Cat\")\n",
        "A2=Animal1.fun(\"Monkey\")\n"
      ],
      "metadata": {
        "colab": {
          "base_uri": "https://localhost:8080/"
        },
        "id": "7tonWvPZmyXo",
        "outputId": "67ff0cfc-173d-4d0e-b0b1-72404bdba73f"
      },
      "execution_count": null,
      "outputs": [
        {
          "output_type": "stream",
          "name": "stdout",
          "text": [
            "The name of the animal is Dog\n",
            "The name of the animal1 is Cat\n",
            "The name of the animal is Monkey\n"
          ]
        }
      ]
    },
    {
      "cell_type": "code",
      "source": [
        "#MultiLevel Inheritance\n",
        "class Animal:\n",
        "  def fun(name):\n",
        "    print(\"The name of the animal is\",name)\n",
        "class Animal1(Animal):\n",
        "  def newone(name):\n",
        "     print(\"The name of the animal1 is\",name)\n",
        "class Animal2(Animal1):\n",
        "  def newone2(name):\n",
        "     print(\"The name of the animal2 is\",name)\n",
        "A=Animal.fun(\"Dog\")\n",
        "A1=Animal1.newone(\"Cat\")\n",
        "A2=Animal1.fun(\"Monkey\")\n",
        "A3=Animal2.newone2(\"Cheetah\")\n",
        "A4=Animal2.fun(\"Elephant\")"
      ],
      "metadata": {
        "id": "z9o2lmKy9aT2",
        "colab": {
          "base_uri": "https://localhost:8080/"
        },
        "outputId": "4be00e0c-6092-4e51-d427-889e4d9a2db3"
      },
      "execution_count": null,
      "outputs": [
        {
          "output_type": "stream",
          "name": "stdout",
          "text": [
            "The name of the animal is Dog\n",
            "The name of the animal1 is Cat\n",
            "The name of the animal is Monkey\n",
            "The name of the animal2 is Cheetah\n",
            "The name of the animal is Elephant\n"
          ]
        }
      ]
    },
    {
      "cell_type": "code",
      "source": [
        "#Multiple Inheritance\n",
        "class Animal:\n",
        "  def fun(self,name):\n",
        "    print(\"The name of the animal is\",name)\n",
        "  def fun1(self,name):\n",
        "    print(\"The name of the animal is\",name)\n",
        "class Animal1:\n",
        "  def newone(self,name):\n",
        "     print(\"The name of the animal1 is\",name)\n",
        "class Animal2:\n",
        "  def newone2(self,name):\n",
        "     print(\"The name of the animal2 is\",name)\n",
        "class Derived(Animal,Animal1,Animal2):\n",
        "     def action(self,a,b):\n",
        "      return a+b\n",
        "d=Derived()\n",
        "d.newone(\"cat\")\n",
        "d.newone2(\"Monkey\")\n",
        "d.fun1(\"Lion\")"
      ],
      "metadata": {
        "colab": {
          "base_uri": "https://localhost:8080/"
        },
        "id": "EdfVzxGCahJX",
        "outputId": "ede333ee-9a11-4473-a860-9f23ec7a8130"
      },
      "execution_count": null,
      "outputs": [
        {
          "output_type": "stream",
          "name": "stdout",
          "text": [
            "The name of the animal1 is cat\n",
            "The name of the animal2 is Monkey\n",
            "The name of the animal is Lion\n"
          ]
        }
      ]
    },
    {
      "cell_type": "code",
      "source": [],
      "metadata": {
        "colab": {
          "base_uri": "https://localhost:8080/"
        },
        "id": "DtdHfCQbbpKh",
        "outputId": "9755919b-1f11-4ebb-9b63-603bf8da7a3f"
      },
      "execution_count": null,
      "outputs": [
        {
          "output_type": "stream",
          "name": "stdout",
          "text": [
            "30\n",
            "200\n",
            "0.5\n"
          ]
        }
      ]
    },
    {
      "cell_type": "code",
      "source": [],
      "metadata": {
        "id": "vIellsruc6zy"
      },
      "execution_count": null,
      "outputs": []
    }
  ]
}
