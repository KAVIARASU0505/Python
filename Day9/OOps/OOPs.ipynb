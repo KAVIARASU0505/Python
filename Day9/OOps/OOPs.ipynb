{
  "nbformat": 4,
  "nbformat_minor": 0,
  "metadata": {
    "colab": {
      "provenance": [],
      "authorship_tag": "ABX9TyOl4VwtzSch8JiXssYf/iWc",
      "include_colab_link": true
    },
    "kernelspec": {
      "name": "python3",
      "display_name": "Python 3"
    },
    "language_info": {
      "name": "python"
    }
  },
  "cells": [
    {
      "cell_type": "markdown",
      "metadata": {
        "id": "view-in-github",
        "colab_type": "text"
      },
      "source": [
        "<a href=\"https://colab.research.google.com/github/KAVIARASU0505/Python/blob/main/Day9/OOps/OOPs.ipynb\" target=\"_parent\"><img src=\"https://colab.research.google.com/assets/colab-badge.svg\" alt=\"Open In Colab\"/></a>"
      ]
    },
    {
      "cell_type": "code",
      "execution_count": 2,
      "metadata": {
        "id": "YlnoQ_ItP17i",
        "colab": {
          "base_uri": "https://localhost:8080/"
        },
        "outputId": "d3226b7a-393c-4ab2-c73a-1df8bc3b29d3"
      },
      "outputs": [
        {
          "output_type": "stream",
          "name": "stdout",
          "text": [
            "The name of the book is Don Quixote\n",
            "The name of the book1 is Harry Potter and the Sorcerer's Stone. \n",
            "The name of the book is Catcher in the Rye\n"
          ]
        }
      ],
      "source": [
        "#Inheritance\n",
        "class Books:\n",
        "  def fun(name):\n",
        "    print(\"The name of the book is\",name)\n",
        "class Book1(Books):\n",
        "  def newone(name):\n",
        "     print(\"The name of the book1 is\",name)\n",
        "A=Books.fun(\"Don Quixote\")\n",
        "A1=Book1.newone(\"Harry Potter and the Sorcerer's Stone. \")\n",
        "A2=Book1.fun(\"Catcher in the Rye\")"
      ]
    },
    {
      "cell_type": "code",
      "source": [
        "#MultiLevel Inheritance\n",
        "class Book:\n",
        "  def fun(name):\n",
        "    print(\"The name of the book is\",name)\n",
        "class Book1(Book):\n",
        "  def newone(name):\n",
        "     print(\"The name of the book1 is\",name)\n",
        "class Book2(Book1):\n",
        "  def newone2(name):\n",
        "     print(\"The name of the Book2 is\",name)\n",
        "A=Book.fun(\"Don Quixote\")\n",
        "A1=Book1.newone(\"Pinocchio\")\n",
        "A2=Book1.fun(\"Catcher in the Rye\")\n",
        "A3=Book2.newone2(\"The lion\")\n",
        "A4=Book2.fun(\"Lord of the Flies\")"
      ],
      "metadata": {
        "colab": {
          "base_uri": "https://localhost:8080/"
        },
        "id": "H0kPCe1VmYFq",
        "outputId": "9a99ba8b-abc1-4455-e5b4-64cef64085ed"
      },
      "execution_count": 3,
      "outputs": [
        {
          "output_type": "stream",
          "name": "stdout",
          "text": [
            "The name of the book is Don Quixote\n",
            "The name of the book1 is Pinocchio\n",
            "The name of the book is Catcher in the Rye\n",
            "The name of the Book2 is The lion\n",
            "The name of the book is Lord of the Flies\n"
          ]
        }
      ]
    },
    {
      "cell_type": "code",
      "source": [
        "#Multiple Inheritance\n",
        "class Book:\n",
        "  def fun(self,name):\n",
        "    print(\"The name of the book is\",name)\n",
        "  def fun1(self,name):\n",
        "    print(\"The name of the book is\",name)\n",
        "class Book1:\n",
        "  def newone(self,name):\n",
        "     print(\"The name of the book1 is\",name)\n",
        "class Book2:\n",
        "  def newone2(self,name):\n",
        "     print(\"The name of the book2 is\",name)\n",
        "class Derived(Book,Book1,Book2):\n",
        "     def action(self,a,b):\n",
        "      return a+b\n",
        "d=Derived()\n",
        "d.newone(\"Don Quixote\")\n",
        "d.newone2(\"The Giver\")\n",
        "d.fun1(\"Animal Farm\")\n",
        "d.action(20,20)"
      ],
      "metadata": {
        "colab": {
          "base_uri": "https://localhost:8080/"
        },
        "id": "eo5EVVwIm8Mj",
        "outputId": "320086c1-0d15-43ef-c4e7-34ab7cba2b12"
      },
      "execution_count": 5,
      "outputs": [
        {
          "output_type": "stream",
          "name": "stdout",
          "text": [
            "The name of the book1 is Don Quixote\n",
            "The name of the book2 is The Giver\n",
            "The name of the book is Animal Farm\n"
          ]
        },
        {
          "output_type": "execute_result",
          "data": {
            "text/plain": [
              "40"
            ]
          },
          "metadata": {},
          "execution_count": 5
        }
      ]
    },
    {
      "cell_type": "code",
      "source": [
        "#Encapsulation\n",
        "class Store:\n",
        "   def __init__(self):\n",
        "     self._price=1000\n",
        "   def sell(self):\n",
        "     print(\"The price of the item is {}\".format(self._price))\n",
        "   def setprice(self,price):\n",
        "     self._price=price\n",
        "A=Store()\n",
        "A.sell()\n",
        "A.setprice(\"800\")\n",
        "A.sell()"
      ],
      "metadata": {
        "colab": {
          "base_uri": "https://localhost:8080/"
        },
        "id": "li3t2xzVq4QC",
        "outputId": "68e2b601-d8d2-487d-9b05-846d0ac74cfe"
      },
      "execution_count": 9,
      "outputs": [
        {
          "output_type": "stream",
          "name": "stdout",
          "text": [
            "The price of the item is 1000\n",
            "The price of the item is 800\n"
          ]
        }
      ]
    },
    {
      "cell_type": "code",
      "source": [
        "#Abstraction\n",
        "#ABC is pre defines abstract class\n",
        "from abc import ABC,abstractmethod\n",
        "class A(ABC):\n",
        "  @abstractmethod\n",
        "  def display(self):\n",
        "    pass\n",
        "class B(A):\n",
        "  def display(self):\n",
        "   print(\"This is the display method\")\n",
        "obj=B()\n",
        "obj.display()\n",
        "  "
      ],
      "metadata": {
        "colab": {
          "base_uri": "https://localhost:8080/"
        },
        "id": "k2u16O75vdVP",
        "outputId": "e32bff2b-4db4-46d8-8a50-690c50f55d9b"
      },
      "execution_count": 21,
      "outputs": [
        {
          "output_type": "stream",
          "name": "stdout",
          "text": [
            "This is the display method\n"
          ]
        }
      ]
    },
    {
      "cell_type": "code",
      "source": [
        "from abc import ABC,abstractmethod\n",
        "class Animal(ABC):\n",
        "  @abstractmethod\n",
        "  def sound(Self):\n",
        "     pass\n",
        "class Tiger(Animal):\n",
        "  def sound(self):\n",
        "    print(\"Sound will be different\")\n",
        "class cow(Animal):\n",
        "  def  sound(Self):\n",
        "    print(\"Sound will be same\")\n",
        "obj=Tiger()\n",
        "obj.sound()\n",
        "obj1=cow()\n",
        "obj1.sound()"
      ],
      "metadata": {
        "colab": {
          "base_uri": "https://localhost:8080/"
        },
        "id": "HiGpxerHyMsJ",
        "outputId": "a31a28f3-df12-4b04-b221-3114d0104a0b"
      },
      "execution_count": 24,
      "outputs": [
        {
          "output_type": "stream",
          "name": "stdout",
          "text": [
            "Sound will be different\n",
            "Sound will be same\n"
          ]
        }
      ]
    },
    {
      "cell_type": "code",
      "source": [
        "from abc import ABC,abstractmethod\n",
        "\n",
        "class a(ABC):   #Abstract class\n",
        "  @abstractmethod\n",
        "  def m1(Self):\n",
        "    pass\n",
        "  @abstractmethod\n",
        "  def m2(self):\n",
        "    pass\n",
        "class b(a):\n",
        "  def m1(self):\n",
        "    print(\"This is m1\")\n",
        "class c(b):\n",
        "  def m2(self):\n",
        "    print(\"This is m2\")\n",
        "obj=c()\n",
        "obj.m1()\n",
        "obj.m2()"
      ],
      "metadata": {
        "colab": {
          "base_uri": "https://localhost:8080/"
        },
        "id": "IeylZChL-v_E",
        "outputId": "3bf81dba-5e7f-4771-84fa-07d9f3ca3502"
      },
      "execution_count": 28,
      "outputs": [
        {
          "output_type": "stream",
          "name": "stdout",
          "text": [
            "This is m1\n",
            "This is m2\n"
          ]
        }
      ]
    },
    {
      "cell_type": "code",
      "source": [
        "from abc import ABC,abstractmethod\n",
        "class cal(ABC):\n",
        "  def __init__(Self,value):\n",
        "    Self.value=value\n",
        "  @abstractmethod\n",
        "  def add(Self):\n",
        "    pass\n",
        "  @abstractmethod\n",
        "  def sub(Self):\n",
        "    pass\n",
        "class C(cal):\n",
        "  def add(Self):\n",
        "    print(Self.value+100)\n",
        "  def sub(Self):\n",
        "    print(Self.value-10)\n",
        "obj=C(100)\n",
        "obj.add()\n",
        "obj.sub()\n"
      ],
      "metadata": {
        "colab": {
          "base_uri": "https://localhost:8080/"
        },
        "id": "YzcFOjkaBKsT",
        "outputId": "38883133-03cf-4425-8239-8b596533d2a8"
      },
      "execution_count": 30,
      "outputs": [
        {
          "output_type": "stream",
          "name": "stdout",
          "text": [
            "200\n",
            "90\n"
          ]
        }
      ]
    },
    {
      "cell_type": "code",
      "source": [
        "#polymorphism\n",
        "class Animal:\n",
        "    def __init__(self, name, age):\n",
        "        self.name = name\n",
        "        self.age = age\n",
        "    def info(self):\n",
        "        print(f\"I am a animal. My name is {self.name}. I am {self.age} years old.\")\n",
        "    def make_sound(self):\n",
        "        print(\"Good\")\n",
        "class Animal2:\n",
        "    def __init__(self, name, age):\n",
        "        self.name = name\n",
        "        self.age = age\n",
        "    def info(self):\n",
        "        print(f\"I am a animal2. My name is {self.name}. I am {self.age} years old.\")\n",
        "    def make_sound(self):\n",
        "        print(\"Bad\")\n",
        "animal1 = Animal(\"Blacky\",3)\n",
        "animal2 = Animal2(\"Roby\",4)\n",
        "for animal in (animal1, animal2):\n",
        "    animal.make_sound()\n",
        "    animal.info()\n",
        "    animal.make_sound()\n"
      ],
      "metadata": {
        "colab": {
          "base_uri": "https://localhost:8080/"
        },
        "id": "7Qdg15tOCe2d",
        "outputId": "9058c432-9474-4d4a-8e85-d7b83a2c0953"
      },
      "execution_count": 33,
      "outputs": [
        {
          "output_type": "stream",
          "name": "stdout",
          "text": [
            "Good\n",
            "I am a animal. My name is Blacky. I am 3 years old.\n",
            "Good\n",
            "Bad\n",
            "I am a animal2. My name is Roby. I am 4 years old.\n",
            "Bad\n"
          ]
        }
      ]
    },
    {
      "cell_type": "code",
      "source": [
        "#Method Overriding\n",
        "class Animal:\n",
        "  def condition(self):\n",
        "    print(\"There are many types of Animals.\") \n",
        "  def condition2(self):\n",
        "    print(\"Most of the Animals are good\")\n",
        "class Animal1(Animal):\n",
        "  def condition2(self):\n",
        "    print(\"Animal1 is bad\")\n",
        "class Animal2(Animal):\n",
        "  def condition2(self):\n",
        "    print(\"Some animals are good.\")    \n",
        "obj = Animal()\n",
        "obj1 = Animal1()\n",
        "obj2 = Animal2()\n",
        "obj.condition()\n",
        "obj.condition2()\n",
        "obj1.condition()\n",
        "obj1.condition2()\n",
        "obj2.condition()\n",
        "obj2.condition2()"
      ],
      "metadata": {
        "colab": {
          "base_uri": "https://localhost:8080/"
        },
        "id": "KGZH9rjjGRFu",
        "outputId": "2f9c3e45-7cb2-49e7-bc9d-7df4b7a515f8"
      },
      "execution_count": 34,
      "outputs": [
        {
          "output_type": "stream",
          "name": "stdout",
          "text": [
            "There are many types of Animals.\n",
            "Most of the Animals are good\n",
            "There are many types of Animals.\n",
            "Animal1 is bad\n",
            "There are many types of Animals.\n",
            "Some animals are good.\n"
          ]
        }
      ]
    },
    {
      "cell_type": "code",
      "source": [],
      "metadata": {
        "id": "TsgdSO_BJxcC"
      },
      "execution_count": null,
      "outputs": []
    }
  ]
}