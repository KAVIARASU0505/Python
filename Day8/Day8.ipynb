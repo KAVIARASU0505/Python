{
  "nbformat": 4,
  "nbformat_minor": 0,
  "metadata": {
    "colab": {
      "provenance": [],
      "authorship_tag": "ABX9TyNLsPCU71iqPcoLt3qf6whv",
      "include_colab_link": true
    },
    "kernelspec": {
      "name": "python3",
      "display_name": "Python 3"
    },
    "language_info": {
      "name": "python"
    }
  },
  "cells": [
    {
      "cell_type": "markdown",
      "metadata": {
        "id": "view-in-github",
        "colab_type": "text"
      },
      "source": [
        "<a href=\"https://colab.research.google.com/github/KAVIARASU0505/Python/blob/main/Day8/Day8.ipynb\" target=\"_parent\"><img src=\"https://colab.research.google.com/assets/colab-badge.svg\" alt=\"Open In Colab\"/></a>"
      ]
    },
    {
      "cell_type": "code",
      "execution_count": null,
      "metadata": {
        "id": "SmPzpKMBNgYn"
      },
      "outputs": [],
      "source": [
        "x = -10\n",
        "if x > 0:\n",
        "  raise TypeError(\"Sorry, The number is greater\") "
      ]
    },
    {
      "cell_type": "code",
      "source": [
        "import re\n",
        "txt = \"The rain in Spain\"\n",
        "x = re.search(\"^The.*Spain$\", txt) \n",
        "if x:\n",
        "  print(\"It matched\")\n",
        "else:\n",
        "  print(\"Not matched\")"
      ],
      "metadata": {
        "colab": {
          "base_uri": "https://localhost:8080/"
        },
        "id": "GUhlFBQXN-f0",
        "outputId": "9a758270-184b-4091-bdd8-f07f97070933"
      },
      "execution_count": null,
      "outputs": [
        {
          "output_type": "stream",
          "name": "stdout",
          "text": [
            "Not matched\n"
          ]
        }
      ]
    },
    {
      "cell_type": "code",
      "source": [
        "import re\n",
        "op='How are you?'\n",
        "x=re.findall(\"[a-s]\",op)\n",
        "print(x)"
      ],
      "metadata": {
        "colab": {
          "base_uri": "https://localhost:8080/"
        },
        "id": "ytIXmWmhfK0G",
        "outputId": "287a7283-58f5-4f0e-835b-2cef65142f2c"
      },
      "execution_count": null,
      "outputs": [
        {
          "output_type": "stream",
          "name": "stdout",
          "text": [
            "['o', 'a', 'r', 'e', 'o']\n"
          ]
        }
      ]
    },
    {
      "cell_type": "code",
      "source": [
        "import re\n",
        "op='The amount of the apple is 39.4 and 23'\n",
        "x=re.findall(\"\\d\",op)\n",
        "print(x)"
      ],
      "metadata": {
        "colab": {
          "base_uri": "https://localhost:8080/"
        },
        "id": "6fztYWosf5cD",
        "outputId": "44f23a34-7875-41c6-b28d-388ef9aa953b"
      },
      "execution_count": null,
      "outputs": [
        {
          "output_type": "stream",
          "name": "stdout",
          "text": [
            "['3', '9', '4', '2', '3']\n"
          ]
        }
      ]
    },
    {
      "cell_type": "code",
      "source": [
        "import re\n",
        "op='The amount of the apple is 39 and 23'\n",
        "x=re.findall(\"a..unt\",op)\n",
        "print(x)"
      ],
      "metadata": {
        "colab": {
          "base_uri": "https://localhost:8080/"
        },
        "id": "Vy6I31PRuDeG",
        "outputId": "134e1628-2de8-481f-bf77-8e66e3fc3550"
      },
      "execution_count": null,
      "outputs": [
        {
          "output_type": "stream",
          "name": "stdout",
          "text": [
            "['amount']\n"
          ]
        }
      ]
    },
    {
      "cell_type": "code",
      "source": [
        "import re\n",
        "op='The amount of the apple is 39 and 23'\n",
        "x=re.findall(\"^The\",op)\n",
        "if x:\n",
        "  print(\"True\")\n",
        "else:\n",
        "  print(\"False\")"
      ],
      "metadata": {
        "colab": {
          "base_uri": "https://localhost:8080/"
        },
        "id": "GrlWfRoqukIR",
        "outputId": "7ede861c-1760-4dcb-f4a4-e225a5671bc4"
      },
      "execution_count": null,
      "outputs": [
        {
          "output_type": "stream",
          "name": "stdout",
          "text": [
            "True\n"
          ]
        }
      ]
    },
    {
      "cell_type": "code",
      "source": [
        "import re\n",
        "op='The amount of the apple is 39 and'\n",
        "x=re.findall(\"and$\",op)\n",
        "if x:\n",
        "  print(\"True\")\n",
        "else:\n",
        "  print(\"False\")"
      ],
      "metadata": {
        "colab": {
          "base_uri": "https://localhost:8080/"
        },
        "id": "ChkoQQHBu745",
        "outputId": "19bcb4d7-0c01-40cf-d72b-213234b764ad"
      },
      "execution_count": null,
      "outputs": [
        {
          "output_type": "stream",
          "name": "stdout",
          "text": [
            "True\n"
          ]
        }
      ]
    },
    {
      "cell_type": "code",
      "source": [
        "import re\n",
        "txt = \"World hello welcomeo\"\n",
        "x = re.findall(\"he.*o\", txt)\n",
        "print(x)"
      ],
      "metadata": {
        "colab": {
          "base_uri": "https://localhost:8080/"
        },
        "id": "qlpnxuYQvbva",
        "outputId": "aa75b604-d26a-4969-9410-7c98a33d85de"
      },
      "execution_count": null,
      "outputs": [
        {
          "output_type": "stream",
          "name": "stdout",
          "text": [
            "['hello welcomeo']\n"
          ]
        }
      ]
    },
    {
      "cell_type": "code",
      "source": [
        "import re\n",
        "txt = \"hellho planeto\"\n",
        "x = re.findall(\"he.{3}o\", txt)\n",
        "print(x)"
      ],
      "metadata": {
        "colab": {
          "base_uri": "https://localhost:8080/"
        },
        "id": "IRTQOSmMw2nc",
        "outputId": "c86763af-adc4-45ca-b424-c8d906162d07"
      },
      "execution_count": null,
      "outputs": [
        {
          "output_type": "stream",
          "name": "stdout",
          "text": [
            "['hellho']\n"
          ]
        }
      ]
    },
    {
      "cell_type": "code",
      "source": [
        "import re\n",
        "txt = \"Dont judge the book by its cover\"\n",
        "x = re.findall(\"\\ADont\", txt)\n",
        "if x:\n",
        "  print(\"Matched\")\n",
        "else:\n",
        "  print(\"Not Matched\")"
      ],
      "metadata": {
        "colab": {
          "base_uri": "https://localhost:8080/"
        },
        "id": "N7n1roTuxwq5",
        "outputId": "18968991-859f-4f78-ccae-28358fb8e092"
      },
      "execution_count": null,
      "outputs": [
        {
          "output_type": "stream",
          "name": "stdout",
          "text": [
            "Matched\n"
          ]
        }
      ]
    },
    {
      "cell_type": "code",
      "source": [
        "import re\n",
        "txt = \"Dont judge the book by its cover\"\n",
        "x = re.findall(r\"\\bDo\", txt)\n",
        "if x:\n",
        "  print(\"Matched\")\n",
        "else:\n",
        "  print(\"Not Matched\")"
      ],
      "metadata": {
        "colab": {
          "base_uri": "https://localhost:8080/"
        },
        "id": "EgQOsoB00l3P",
        "outputId": "e882148a-2961-4a66-e1b9-47ca37e3d72b"
      },
      "execution_count": null,
      "outputs": [
        {
          "output_type": "stream",
          "name": "stdout",
          "text": [
            "Matched\n"
          ]
        }
      ]
    },
    {
      "cell_type": "code",
      "source": [
        "import re\n",
        "\n",
        "txt = \" rks books are good and the books are comedy\"\n",
        "\n",
        "x = re.findall(r\"\\Bks\", txt)\n",
        "print(x)\n",
        "if x:\n",
        "  print(\"Matched\")\n",
        "else:\n",
        "  print(\"Not Matched\")"
      ],
      "metadata": {
        "id": "rSBoff5w1Kke",
        "colab": {
          "base_uri": "https://localhost:8080/"
        },
        "outputId": "eb284da7-1e38-47a7-8d96-2c071b321f99"
      },
      "execution_count": null,
      "outputs": [
        {
          "output_type": "stream",
          "name": "stdout",
          "text": [
            "['ks', 'ks', 'ks']\n",
            "Matched\n"
          ]
        }
      ]
    },
    {
      "cell_type": "code",
      "source": [],
      "metadata": {
        "colab": {
          "base_uri": "https://localhost:8080/"
        },
        "id": "mpPmaZr81f1D",
        "outputId": "e87ed4a3-a206-470f-8b02-6cf029c927ff"
      },
      "execution_count": null,
      "outputs": [
        {
          "output_type": "stream",
          "name": "stdout",
          "text": [
            "['ain', 'ain']\n",
            "Yes, there is at least one match!\n"
          ]
        }
      ]
    },
    {
      "cell_type": "code",
      "source": [
        "import re\n",
        "\n",
        "txt = \"books are good and the books are comedy and the price of the book is 50.\"\n",
        "\n",
        "x = re.findall(r\"\\d\", txt)\n",
        "print(x)\n",
        "if x:\n",
        "  print(\"Matched\")\n",
        "else:\n",
        "  print(\"Not Matched\")"
      ],
      "metadata": {
        "colab": {
          "base_uri": "https://localhost:8080/"
        },
        "id": "bJvMmA5g2HKG",
        "outputId": "3dac07d5-5cff-464d-9c29-5e264b144173"
      },
      "execution_count": null,
      "outputs": [
        {
          "output_type": "stream",
          "name": "stdout",
          "text": [
            "['5', '0']\n",
            "Matched\n"
          ]
        }
      ]
    },
    {
      "cell_type": "code",
      "source": [
        "import re\n",
        "\n",
        "txt = \"books are good and the books are comedy and the price of the book is 50.\"\n",
        "\n",
        "x = re.findall(r\"\\D\", txt)\n",
        "print(x)\n",
        "if x:\n",
        "  print(\"Matched\")\n",
        "else:\n",
        "  print(\"Not Matched\")"
      ],
      "metadata": {
        "colab": {
          "base_uri": "https://localhost:8080/"
        },
        "id": "tfoRJ8wq3Wo-",
        "outputId": "7a6d8621-4281-46c2-fccc-0110ae88852e"
      },
      "execution_count": null,
      "outputs": [
        {
          "output_type": "stream",
          "name": "stdout",
          "text": [
            "['b', 'o', 'o', 'k', 's', ' ', 'a', 'r', 'e', ' ', 'g', 'o', 'o', 'd', ' ', 'a', 'n', 'd', ' ', 't', 'h', 'e', ' ', 'b', 'o', 'o', 'k', 's', ' ', 'a', 'r', 'e', ' ', 'c', 'o', 'm', 'e', 'd', 'y', ' ', 'a', 'n', 'd', ' ', 't', 'h', 'e', ' ', 'p', 'r', 'i', 'c', 'e', ' ', 'o', 'f', ' ', 't', 'h', 'e', ' ', 'b', 'o', 'o', 'k', ' ', 'i', 's', ' ', '.']\n",
            "Matched\n"
          ]
        }
      ]
    },
    {
      "cell_type": "code",
      "source": [
        "import re\n",
        "\n",
        "txt = \"books are good and the books are comedy and the price of the book is 50.\"\n",
        "\n",
        "x = re.findall(r\"[abc]\", txt)\n",
        "print(x)\n"
      ],
      "metadata": {
        "colab": {
          "base_uri": "https://localhost:8080/"
        },
        "id": "zalEueUu3enw",
        "outputId": "403b7f50-cc56-4775-e379-65527d0aebc4"
      },
      "execution_count": null,
      "outputs": [
        {
          "output_type": "stream",
          "name": "stdout",
          "text": [
            "['b', 'a', 'a', 'b', 'a', 'c', 'a', 'c', 'b']\n"
          ]
        }
      ]
    },
    {
      "cell_type": "code",
      "source": [
        "import re\n",
        "\n",
        "txt = \"books are good and the books are comedy and the price of the book is 50.\"\n",
        "\n",
        "x = re.findall(r\"[a-n]\", txt)\n",
        "print(x)"
      ],
      "metadata": {
        "colab": {
          "base_uri": "https://localhost:8080/"
        },
        "id": "v0IfEmTv3spm",
        "outputId": "357cd5e2-5544-402e-b5e2-3803735c8880"
      },
      "execution_count": null,
      "outputs": [
        {
          "output_type": "stream",
          "name": "stdout",
          "text": [
            "['b', 'k', 'a', 'e', 'g', 'd', 'a', 'n', 'd', 'h', 'e', 'b', 'k', 'a', 'e', 'c', 'm', 'e', 'd', 'a', 'n', 'd', 'h', 'e', 'i', 'c', 'e', 'f', 'h', 'e', 'b', 'k', 'i']\n"
          ]
        }
      ]
    },
    {
      "cell_type": "code",
      "source": [
        "import re\n",
        "\n",
        "txt = \"books are good and the books are comedy and the price of the book is 50.\"\n",
        "\n",
        "x = re.findall(r\"[^a-n]\", txt)\n",
        "print(x)"
      ],
      "metadata": {
        "colab": {
          "base_uri": "https://localhost:8080/"
        },
        "id": "J0L5Mq733yOm",
        "outputId": "8ff01902-23b2-426e-be17-595f29e420f3"
      },
      "execution_count": null,
      "outputs": [
        {
          "output_type": "stream",
          "name": "stdout",
          "text": [
            "['o', 'o', 's', ' ', 'r', ' ', 'o', 'o', ' ', ' ', 't', ' ', 'o', 'o', 's', ' ', 'r', ' ', 'o', 'y', ' ', ' ', 't', ' ', 'p', 'r', ' ', 'o', ' ', 't', ' ', 'o', 'o', ' ', 's', ' ', '5', '0', '.']\n"
          ]
        }
      ]
    },
    {
      "cell_type": "code",
      "source": [
        "import re\n",
        "\n",
        "txt = \"books are good and + the books are comedy + and the price of + the book is 50.\"\n",
        "\n",
        "x = re.findall(\"[+]\", txt)\n",
        "print(x)\n",
        "if x:\n",
        "  print(\"Matched\")\n",
        "else:\n",
        "  print(\"Not Matched\")"
      ],
      "metadata": {
        "colab": {
          "base_uri": "https://localhost:8080/"
        },
        "id": "uZMZytvZ38jV",
        "outputId": "838aa09f-d785-4392-fc55-fce1029dbad5"
      },
      "execution_count": null,
      "outputs": [
        {
          "output_type": "stream",
          "name": "stdout",
          "text": [
            "['+', '+', '+']\n",
            "Matched\n"
          ]
        }
      ]
    },
    {
      "cell_type": "code",
      "source": [
        "import re\n",
        "\n",
        "txt = \"books are good and the books are comedy and the price of the book is 50.\"\n",
        "\n",
        "x = re.findall(\"the\", txt)\n",
        "print(x)\n",
        "if x:\n",
        "  print(\"Matched\")\n",
        "else:\n",
        "  print(\"Not Matched\")"
      ],
      "metadata": {
        "colab": {
          "base_uri": "https://localhost:8080/"
        },
        "id": "HmTn-R584Rku",
        "outputId": "78477735-d64a-443b-c8f8-06bf02a4d555"
      },
      "execution_count": null,
      "outputs": [
        {
          "output_type": "stream",
          "name": "stdout",
          "text": [
            "['the', 'the', 'the']\n",
            "Matched\n"
          ]
        }
      ]
    },
    {
      "cell_type": "code",
      "source": [
        "import re\n",
        "x=\"Wonderful days in the world\"\n",
        "y=re.search(\"\\s\",x)\n",
        "print(\"The output is:\",y.start())\n",
        "print(\"The end index is:\",y.end())"
      ],
      "metadata": {
        "colab": {
          "base_uri": "https://localhost:8080/"
        },
        "id": "0olOBIan4rVX",
        "outputId": "2d93ed01-0dbf-43cb-cae0-98d725ab7b4c"
      },
      "execution_count": null,
      "outputs": [
        {
          "output_type": "stream",
          "name": "stdout",
          "text": [
            "The output is: 9\n",
            "The end index is: 10\n"
          ]
        }
      ]
    },
    {
      "cell_type": "code",
      "source": [
        "\"import re\n",
        "x=\"Wonderful days in the world\"\n",
        "y=re.split(\"\\s\",x)\n",
        "print(y)"
      ],
      "metadata": {
        "colab": {
          "base_uri": "https://localhost:8080/"
        },
        "id": "IcuRGPMMDriB",
        "outputId": "32d6846e-afae-4ad5-e66d-cc8effd02861"
      },
      "execution_count": null,
      "outputs": [
        {
          "output_type": "stream",
          "name": "stdout",
          "text": [
            "['Wonderful', 'days', 'in', 'the', 'world']\n"
          ]
        }
      ]
    },
    {
      "cell_type": "code",
      "source": [
        "import re\n",
        "x=\"Wonderful days in the world\"\n",
        "y=re.split(\"d\",x,3)\n",
        "print(y)"
      ],
      "metadata": {
        "colab": {
          "base_uri": "https://localhost:8080/"
        },
        "id": "x3lFCHITEhFu",
        "outputId": "60bd2ed0-99f5-4ad2-a447-de348f197c8e"
      },
      "execution_count": null,
      "outputs": [
        {
          "output_type": "stream",
          "name": "stdout",
          "text": [
            "['Won', 'erful ', 'ays in the worl', '']\n"
          ]
        }
      ]
    },
    {
      "cell_type": "code",
      "source": [
        "import re\n",
        "x=\"Wonderful days in the world\"\n",
        "y=re.sub(\"\\s\",\"&\",x)\n",
        "print(y)"
      ],
      "metadata": {
        "colab": {
          "base_uri": "https://localhost:8080/"
        },
        "id": "sVVeRiZMF4gp",
        "outputId": "f3c98cc8-3f41-4bca-81f5-5a56d7b265a1"
      },
      "execution_count": null,
      "outputs": [
        {
          "output_type": "stream",
          "name": "stdout",
          "text": [
            "Wonderful&days&in&the&world\n"
          ]
        }
      ]
    },
    {
      "cell_type": "code",
      "source": [
        "import re\n",
        "x=\"Wonderful                                               days in the world\"\n",
        "y=re.sub(\"\\s\",\"&^\",x)\n",
        "print(y)"
      ],
      "metadata": {
        "colab": {
          "base_uri": "https://localhost:8080/"
        },
        "id": "yrP5TcGiGFY3",
        "outputId": "c0ec3050-64aa-48c2-b7c1-bc098318abed"
      },
      "execution_count": null,
      "outputs": [
        {
          "output_type": "stream",
          "name": "stdout",
          "text": [
            "Wonderful&^&^&^&^&^&^&^&^&^&^&^&^&^&^&^&^&^&^&^&^&^&^&^&^&^&^&^&^&^&^&^&^&^&^&^&^&^&^&^&^&^&^&^&^&^&^&^days&^in&^the&^world\n"
          ]
        }
      ]
    },
    {
      "cell_type": "code",
      "source": [
        "import re\n",
        "x=\"Wonderful days in the world\"\n",
        "y=re.sub(\"\\s\",\"&\",x,2)\n",
        "print(y)"
      ],
      "metadata": {
        "colab": {
          "base_uri": "https://localhost:8080/"
        },
        "id": "EedErxdlGLLR",
        "outputId": "9ffba43e-b21e-4d98-bc11-a973c5588446"
      },
      "execution_count": null,
      "outputs": [
        {
          "output_type": "stream",
          "name": "stdout",
          "text": [
            "Wonderful&days&in the world\n"
          ]
        }
      ]
    },
    {
      "cell_type": "code",
      "source": [
        "import re\n",
        "x=\"Wonderful days in the world\"\n",
        "y=re.sub(\"\\s\",\"&\",x,1)\n",
        "print(y)"
      ],
      "metadata": {
        "colab": {
          "base_uri": "https://localhost:8080/"
        },
        "id": "lWK3Npx8GuxJ",
        "outputId": "45b3d312-20cf-4524-b878-395ec8dafd16"
      },
      "execution_count": null,
      "outputs": [
        {
          "output_type": "stream",
          "name": "stdout",
          "text": [
            "Wonderful&days in the world\n"
          ]
        }
      ]
    },
    {
      "cell_type": "code",
      "source": [
        "import re\n",
        "x=\"Wonderful days in the world\"\n",
        "y=re.search(r\"\\bd\",x)\n",
        "print(y.span())"
      ],
      "metadata": {
        "colab": {
          "base_uri": "https://localhost:8080/"
        },
        "id": "2yo95-i8Gy05",
        "outputId": "d26b20de-af1f-4c6b-ca4f-c34b5500a4f4"
      },
      "execution_count": null,
      "outputs": [
        {
          "output_type": "stream",
          "name": "stdout",
          "text": [
            "(10, 11)\n"
          ]
        }
      ]
    },
    {
      "cell_type": "code",
      "source": [
        "import re\n",
        "x=\"Wonderful days in the world days\"\n",
        "y=re.search(r\"\\bd\\w+\",x)\n",
        "print(y.group())"
      ],
      "metadata": {
        "colab": {
          "base_uri": "https://localhost:8080/"
        },
        "id": "uKnvamsCHvQy",
        "outputId": "9f76d35d-bf2d-4853-d6f8-010528b628fa"
      },
      "execution_count": null,
      "outputs": [
        {
          "output_type": "stream",
          "name": "stdout",
          "text": [
            "days\n"
          ]
        }
      ]
    },
    {
      "cell_type": "code",
      "source": [
        "assert sum([ 2, 3, 5]) == 10"
      ],
      "metadata": {
        "id": "N_z3dlTZJPik"
      },
      "execution_count": null,
      "outputs": []
    },
    {
      "cell_type": "code",
      "source": [
        "assert sum([ 2,5, 3, 5]) == 10,\"It is not same\"  "
      ],
      "metadata": {
        "id": "GLKVmWFreKpu"
      },
      "execution_count": null,
      "outputs": []
    },
    {
      "cell_type": "code",
      "source": [
        "x=lambda x: x + 1\n",
        "x(5)"
      ],
      "metadata": {
        "colab": {
          "base_uri": "https://localhost:8080/"
        },
        "id": "LAeNEEJWsMJ0",
        "outputId": "411947fb-427c-4b76-bb8f-15e742f5f737"
      },
      "execution_count": null,
      "outputs": [
        {
          "output_type": "execute_result",
          "data": {
            "text/plain": [
              "6"
            ]
          },
          "metadata": {},
          "execution_count": 144
        }
      ]
    },
    {
      "cell_type": "code",
      "source": [
        "(lambda x: x + 1)(5)"
      ],
      "metadata": {
        "colab": {
          "base_uri": "https://localhost:8080/"
        },
        "id": "76yeoTzY4DIh",
        "outputId": "4bd46014-5a77-47f0-d1fc-cc7da2dd8214"
      },
      "execution_count": null,
      "outputs": [
        {
          "output_type": "execute_result",
          "data": {
            "text/plain": [
              "6"
            ]
          },
          "metadata": {},
          "execution_count": 146
        }
      ]
    },
    {
      "cell_type": "code",
      "source": [
        "Name = lambda first, last: f'The Name is: {first}{last}'\n",
        "Name('Kavi','arasu')"
      ],
      "metadata": {
        "colab": {
          "base_uri": "https://localhost:8080/",
          "height": 35
        },
        "id": "uqqFEedACU1a",
        "outputId": "83b909c8-1fac-4486-d4ba-ac0e8008d433"
      },
      "execution_count": null,
      "outputs": [
        {
          "output_type": "execute_result",
          "data": {
            "text/plain": [
              "'The Name is: Kaviarasu'"
            ],
            "application/vnd.google.colaboratory.intrinsic+json": {
              "type": "string"
            }
          },
          "metadata": {},
          "execution_count": 152
        }
      ]
    },
    {
      "cell_type": "code",
      "source": [
        "l1=[1,2,3,4,5]\n",
        "l2=[]\n",
        "for i in l1:\n",
        "  x=lambda i:i*2\n",
        "  l2.append(x(i))\n",
        "print(l2)"
      ],
      "metadata": {
        "colab": {
          "base_uri": "https://localhost:8080/"
        },
        "id": "-TDm-P4PCzJN",
        "outputId": "473944e3-a73c-4106-8c3f-f53a900646e8"
      },
      "execution_count": null,
      "outputs": [
        {
          "output_type": "stream",
          "name": "stdout",
          "text": [
            "[2, 4, 6, 8, 10]\n"
          ]
        }
      ]
    },
    {
      "cell_type": "code",
      "source": [
        "x=lambda x, y: x + y\n",
        "x(5,5)"
      ],
      "metadata": {
        "colab": {
          "base_uri": "https://localhost:8080/"
        },
        "id": "6LdL9uSNDXKm",
        "outputId": "98113d9f-aa22-461e-d32f-918a1e82a3e3"
      },
      "execution_count": null,
      "outputs": [
        {
          "output_type": "execute_result",
          "data": {
            "text/plain": [
              "10"
            ]
          },
          "metadata": {},
          "execution_count": 170
        }
      ]
    },
    {
      "cell_type": "code",
      "source": [
        "(lambda x, y, z=3: x + y + z)(1, 2)"
      ],
      "metadata": {
        "colab": {
          "base_uri": "https://localhost:8080/"
        },
        "id": "oLg_rLGjG2CI",
        "outputId": "12cc4568-bf6f-4dcf-89da-e5b9f47f0294"
      },
      "execution_count": 1,
      "outputs": [
        {
          "output_type": "execute_result",
          "data": {
            "text/plain": [
              "6"
            ]
          },
          "metadata": {},
          "execution_count": 1
        }
      ]
    },
    {
      "cell_type": "code",
      "source": [
        "def myfun(*argv):\n",
        "    for arg in argv:\n",
        "        print(arg)\n",
        "myfun('Hello','How are you?','Good')"
      ],
      "metadata": {
        "id": "lhh6xZJaG8F4",
        "colab": {
          "base_uri": "https://localhost:8080/"
        },
        "outputId": "b1e70267-852a-43d9-eb5e-0695480fcdc0"
      },
      "execution_count": 3,
      "outputs": [
        {
          "output_type": "stream",
          "name": "stdout",
          "text": [
            "Hello\n",
            "How are you?\n",
            "Good\n"
          ]
        }
      ]
    },
    {
      "cell_type": "code",
      "source": [
        "def fun(**kwargs):\n",
        "  for key,value in kwargs.items():\n",
        "    print(\"%s + %s = output\"%(key,value))\n",
        "fun(one=\"Value1\",two=\"value2\",three=\"value3\")\n"
      ],
      "metadata": {
        "colab": {
          "base_uri": "https://localhost:8080/"
        },
        "id": "cydzr5DvjXPp",
        "outputId": "a08dae36-dfea-4ac4-8bf1-1beccb85b444"
      },
      "execution_count": 4,
      "outputs": [
        {
          "output_type": "stream",
          "name": "stdout",
          "text": [
            "one + Value1 = output\n",
            "two + value2 = output\n",
            "three + value3 = output\n"
          ]
        }
      ]
    },
    {
      "cell_type": "code",
      "source": [
        "def fun1(*args):\n",
        "  for i in args:\n",
        "    print(i)\n",
        "def fun2(**kwargs):\n",
        "  for key,value in kwargs.items():\n",
        "    print(key,value)\n",
        "fun1(\"value1\",\"value2\",\"value3\")\n",
        "fun2(Age=\"25\",Age2=\"20\",Age3=\"30\")"
      ],
      "metadata": {
        "colab": {
          "base_uri": "https://localhost:8080/"
        },
        "id": "Czm4tVxTkGG5",
        "outputId": "f9ad4cfe-d6c3-46a5-d799-9fbebc83b2b1"
      },
      "execution_count": 21,
      "outputs": [
        {
          "output_type": "stream",
          "name": "stdout",
          "text": [
            "value1\n",
            "value2\n",
            "value3\n",
            "Age 25\n",
            "Age2 20\n",
            "Age3 30\n"
          ]
        }
      ]
    },
    {
      "cell_type": "code",
      "source": [
        "def one(name):\n",
        "  return f\"Hi {name}\"\n",
        "def Two(name):\n",
        "  return f\"Hi and {name}\"\n",
        "def three(name):\n",
        "  return name(\"Kavi\")\n",
        "three(one)\n",
        "three(Two)"
      ],
      "metadata": {
        "colab": {
          "base_uri": "https://localhost:8080/",
          "height": 36
        },
        "id": "eGcTW1a1knaz",
        "outputId": "114cf414-01b2-4867-d0fc-2c06dd3da4e4"
      },
      "execution_count": 20,
      "outputs": [
        {
          "output_type": "execute_result",
          "data": {
            "text/plain": [
              "'Hi and Kavi'"
            ],
            "application/vnd.google.colaboratory.intrinsic+json": {
              "type": "string"
            }
          },
          "metadata": {},
          "execution_count": 20
        }
      ]
    },
    {
      "cell_type": "code",
      "source": [
        "def parent(n):\n",
        "   print(\"This is the first content\")\n",
        "   def one(name):\n",
        "     return f\"Hi {name}\"\n",
        "   def Two(name):\n",
        "     return f\"Hi and {name}\"\n",
        "   def three(name):\n",
        "     return name(\"Kavi\")\n",
        "   if n==1:\n",
        "     return Two(\"Ram\")\n",
        "   else:\n",
        "     return one(\"Kavi\")\n",
        "parent(1)"
      ],
      "metadata": {
        "colab": {
          "base_uri": "https://localhost:8080/",
          "height": 53
        },
        "id": "Sre6-0m91ldx",
        "outputId": "616da10e-6ea3-4d55-9847-acf355001dfb"
      },
      "execution_count": 28,
      "outputs": [
        {
          "output_type": "stream",
          "name": "stdout",
          "text": [
            "This is the first content\n"
          ]
        },
        {
          "output_type": "execute_result",
          "data": {
            "text/plain": [
              "'Hi and Ram'"
            ],
            "application/vnd.google.colaboratory.intrinsic+json": {
              "type": "string"
            }
          },
          "metadata": {},
          "execution_count": 28
        }
      ]
    },
    {
      "cell_type": "code",
      "source": [
        "def parent():\n",
        "   print(\"This is the first content\")\n",
        "   def one(name):\n",
        "     return f\"Hi {name}\"\n",
        "   def Two(name):\n",
        "     return f\"Hi and {name}\"\n",
        "   def three(name):\n",
        "     return name(\"Kavi\")\n",
        "   three(one)\n",
        "   three(Two)\n",
        "parent()"
      ],
      "metadata": {
        "colab": {
          "base_uri": "https://localhost:8080/"
        },
        "id": "uJnIhSP92ZmZ",
        "outputId": "6994e1e0-8107-497a-9dc1-add530f13d2e"
      },
      "execution_count": 26,
      "outputs": [
        {
          "output_type": "stream",
          "name": "stdout",
          "text": [
            "This is the first content\n"
          ]
        }
      ]
    },
    {
      "cell_type": "code",
      "source": [
        "def functioexec(func):\n",
        "    def caller():\n",
        "        print(\"This is the first content\")\n",
        "        func()\n",
        "        print(\"This is the second content\")\n",
        "    return caller\n",
        "def function():\n",
        "    print(\"Newone\")\n",
        "fun = functioexec(function)\n",
        "fun()"
      ],
      "metadata": {
        "colab": {
          "base_uri": "https://localhost:8080/"
        },
        "id": "dOU1u4n33OUT",
        "outputId": "c9aa5b96-283c-49ca-dfb9-1015e8a12ad8"
      },
      "execution_count": 33,
      "outputs": [
        {
          "output_type": "stream",
          "name": "stdout",
          "text": [
            "This is the first content\n",
            "Newone\n",
            "This is the second content\n"
          ]
        }
      ]
    },
    {
      "cell_type": "code",
      "source": [
        "def functionexec(func):\n",
        "    def caller():\n",
        "        print(\"This is the first content\")\n",
        "        func()\n",
        "        print(\"This is the second content\")\n",
        "    return caller\n",
        "@functionexec\n",
        "def function():\n",
        "    print(\"Newone\")\n",
        "function()\n"
      ],
      "metadata": {
        "colab": {
          "base_uri": "https://localhost:8080/"
        },
        "id": "KlvtnNZF4LZ1",
        "outputId": "650b2620-29a8-4fb5-f2f9-031918437d5d"
      },
      "execution_count": 39,
      "outputs": [
        {
          "output_type": "stream",
          "name": "stdout",
          "text": [
            "This is the first content\n",
            "Newone\n",
            "This is the second content\n"
          ]
        }
      ]
    },
    {
      "cell_type": "code",
      "source": [],
      "metadata": {
        "id": "YL9kzrpb6vcF"
      },
      "execution_count": null,
      "outputs": []
    }
  ]
}