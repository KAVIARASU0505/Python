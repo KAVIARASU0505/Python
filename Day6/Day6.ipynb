{
  "nbformat": 4,
  "nbformat_minor": 0,
  "metadata": {
    "colab": {
      "provenance": [],
      "authorship_tag": "ABX9TyMkI9nCobkwbYxoQJ3izNax",
      "include_colab_link": true
    },
    "kernelspec": {
      "name": "python3",
      "display_name": "Python 3"
    },
    "language_info": {
      "name": "python"
    }
  },
  "cells": [
    {
      "cell_type": "markdown",
      "metadata": {
        "id": "view-in-github",
        "colab_type": "text"
      },
      "source": [
        "<a href=\"https://colab.research.google.com/github/KAVIARASU0505/Python/blob/main/Day6/Day6.ipynb\" target=\"_parent\"><img src=\"https://colab.research.google.com/assets/colab-badge.svg\" alt=\"Open In Colab\"/></a>"
      ]
    },
    {
      "cell_type": "code",
      "execution_count": null,
      "metadata": {
        "colab": {
          "base_uri": "https://localhost:8080/"
        },
        "id": "U72MBuBugd9u",
        "outputId": "0c1fe3f9-cf53-416e-dc77-112b1f4b68fa"
      },
      "outputs": [
        {
          "output_type": "stream",
          "name": "stdout",
          "text": [
            "The name of the animal is Name\n"
          ]
        }
      ],
      "source": [
        "class Animal:\n",
        "  def fun(self,name):\n",
        "    print(\"The name of the animal is\",name)\n",
        "  def __fun1(self,name):\n",
        "    print(\"The name of the animal is\",name)\n",
        "class Animal1:\n",
        "  def newone(self,name):\n",
        "     print(\"The name of the animal1 is\",name)\n",
        "class Animal2:\n",
        "  def newone2(self,name):\n",
        "     print(\"The name of the animal2 is\",name)\n",
        "class Derived(Animal,Animal1,Animal2):\n",
        "     def action(self,a,b):\n",
        "      return a+b\n",
        "d=Derived()\n",
        "d.__fun1(\"Name\") #====>It will show error as not defined __Function"
      ]
    },
    {
      "cell_type": "code",
      "source": [
        "class Animal:\n",
        "  __privatevariable=\"20 Years\"\n",
        "  def __fun1(self,name):\n",
        "    print(\"The name of the bird is\",name)\n",
        "  def fun(self,name):\n",
        "    print(\"The name of the animal is\",name)\n",
        "    print(\"The year of the animal is\",Animal.__privatevariable)\n",
        "    self.__fun1(\"Sparrow\")\n",
        "class Animal1:\n",
        "  def newone(self,name):\n",
        "     print(\"The name of the animal1 is\",name)\n",
        "class Animal2:\n",
        "  def newone2(self,name):\n",
        "     print(\"The name of the animal2 is\",name)\n",
        "class Derived(Animal,Animal1,Animal2):\n",
        "     def action(self,a,b):\n",
        "      return a+b\n",
        "d=Derived()\n",
        "d.fun(\"Lion\")"
      ],
      "metadata": {
        "id": "ouyl2p5xkfq5"
      },
      "execution_count": null,
      "outputs": []
    },
    {
      "cell_type": "code",
      "source": [
        "class mainclass:\n",
        "    __private=2020;\n",
        "    def __privateMethod(self):\n",
        "        print(\"I'm inside the class\")\n",
        "    def inside(self):\n",
        "        print(\"Private Output: \",mainclass.__private)\n",
        "call = mainclass()\n",
        "call.inside()\n",
        "call.__privateMethod() #The error will occurs as 'mainclass\" object has no attribute '__private'"
      ],
      "metadata": {
        "colab": {
          "base_uri": "https://localhost:8080/",
          "height": 219
        },
        "id": "kwZ59RBSnHgN",
        "outputId": "bdafcb3c-5db1-432f-d024-53f018d292a6"
      },
      "execution_count": null,
      "outputs": [
        {
          "output_type": "stream",
          "name": "stdout",
          "text": [
            "Private Output:  2020\n"
          ]
        },
        {
          "output_type": "error",
          "ename": "AttributeError",
          "evalue": "ignored",
          "traceback": [
            "\u001b[0;31m---------------------------------------------------------------------------\u001b[0m",
            "\u001b[0;31mAttributeError\u001b[0m                            Traceback (most recent call last)",
            "\u001b[0;32m<ipython-input-101-6cadba783221>\u001b[0m in \u001b[0;36m<module>\u001b[0;34m\u001b[0m\n\u001b[1;32m      7\u001b[0m \u001b[0mcall\u001b[0m \u001b[0;34m=\u001b[0m \u001b[0mmainclass\u001b[0m\u001b[0;34m(\u001b[0m\u001b[0;34m)\u001b[0m\u001b[0;34m\u001b[0m\u001b[0;34m\u001b[0m\u001b[0m\n\u001b[1;32m      8\u001b[0m \u001b[0mcall\u001b[0m\u001b[0;34m.\u001b[0m\u001b[0minside\u001b[0m\u001b[0;34m(\u001b[0m\u001b[0;34m)\u001b[0m\u001b[0;34m\u001b[0m\u001b[0;34m\u001b[0m\u001b[0m\n\u001b[0;32m----> 9\u001b[0;31m \u001b[0mcall\u001b[0m\u001b[0;34m.\u001b[0m\u001b[0m__privateMethod\u001b[0m\u001b[0;34m(\u001b[0m\u001b[0;34m)\u001b[0m \u001b[0;31m#The error will occurs as 'mainclass\" object has no attribute '__private'\u001b[0m\u001b[0;34m\u001b[0m\u001b[0;34m\u001b[0m\u001b[0m\n\u001b[0m",
            "\u001b[0;31mAttributeError\u001b[0m: 'mainclass' object has no attribute '__privateMethod'"
          ]
        }
      ]
    },
    {
      "cell_type": "code",
      "source": [
        "class Student:\n",
        "  def fun(self,name):\n",
        "    pass\n",
        "d=Student()\n",
        "d.fun(\"How are you?\")\n",
        "d.name=\"Kavi\"\n",
        "d.age=20\n",
        "print(d.age)"
      ],
      "metadata": {
        "id": "7ncbAKBSp86g",
        "colab": {
          "base_uri": "https://localhost:8080/"
        },
        "outputId": "fe83dd1e-8aa7-4ca3-da7a-c6746413a402"
      },
      "execution_count": null,
      "outputs": [
        {
          "output_type": "stream",
          "name": "stdout",
          "text": [
            "20\n"
          ]
        }
      ]
    },
    {
      "cell_type": "code",
      "source": [
        "#iterator\n",
        "arr=[3,6,8,10]\n",
        "for x in arr:\n",
        "  print(x)\n"
      ],
      "metadata": {
        "colab": {
          "base_uri": "https://localhost:8080/"
        },
        "id": "skpMl6lxwoNc",
        "outputId": "f6c0b13e-bcfd-4c05-c195-02063524afd6"
      },
      "execution_count": null,
      "outputs": [
        {
          "output_type": "stream",
          "name": "stdout",
          "text": [
            "3\n",
            "6\n",
            "8\n",
            "10\n"
          ]
        }
      ]
    },
    {
      "cell_type": "code",
      "source": [
        "arr1={\"name\":'Kaviarasu',\"age\":20}\n",
        "for key in arr1:\n",
        "  print(key)"
      ],
      "metadata": {
        "colab": {
          "base_uri": "https://localhost:8080/"
        },
        "id": "6DLcyJ8i2y5e",
        "outputId": "ef35eed2-70e7-4450-b6f4-23c4327d11da"
      },
      "execution_count": null,
      "outputs": [
        {
          "output_type": "stream",
          "name": "stdout",
          "text": [
            "name\n",
            "age\n"
          ]
        }
      ]
    },
    {
      "cell_type": "code",
      "source": [
        "arr1={'Kaviarasu',20}\n",
        "for value in enumerate(arr1):\n",
        "  print(value)"
      ],
      "metadata": {
        "colab": {
          "base_uri": "https://localhost:8080/"
        },
        "id": "kH0UWphL3Cvi",
        "outputId": "530947a1-e626-4642-def2-731d3e376210"
      },
      "execution_count": null,
      "outputs": [
        {
          "output_type": "stream",
          "name": "stdout",
          "text": [
            "(0, 20)\n",
            "(1, 'Kaviarasu')\n"
          ]
        }
      ]
    },
    {
      "cell_type": "code",
      "source": [
        "arr1={\"name\":'Kaviarasu',\"age\":20}\n",
        "x=arr1.keys()\n",
        "print(x)"
      ],
      "metadata": {
        "colab": {
          "base_uri": "https://localhost:8080/"
        },
        "id": "ps4xxPMY3PKz",
        "outputId": "0b961e69-bc83-4be4-a9f9-8ceba314b038"
      },
      "execution_count": null,
      "outputs": [
        {
          "output_type": "stream",
          "name": "stdout",
          "text": [
            "dict_keys(['name', 'age'])\n"
          ]
        }
      ]
    },
    {
      "cell_type": "code",
      "source": [
        "arr1={\"name\":'Kaviarasu',\"age\":20}\n",
        "x=arr1.values()\n",
        "print(x)"
      ],
      "metadata": {
        "colab": {
          "base_uri": "https://localhost:8080/"
        },
        "id": "P8--Gpdx4fwz",
        "outputId": "12416b9f-7dea-40e7-b98a-cf5234e76de7"
      },
      "execution_count": null,
      "outputs": [
        {
          "output_type": "stream",
          "name": "stdout",
          "text": [
            "dict_values(['Kaviarasu', 20])\n"
          ]
        }
      ]
    },
    {
      "cell_type": "code",
      "source": [
        "arr=[2,3,4,5,6,7,8]\n",
        "arr1=iter(arr)\n",
        "print(next(arr1))\n",
        "print(next(arr1))\n",
        "print(next(arr1))\n",
        "print(next(arr1))\n",
        "print(next(arr1))\n",
        "print(next(arr1))\n",
        "print(next(arr1))\n",
        "print(next(arr1))  #If more than next given, the error will be \"StopItertion\""
      ],
      "metadata": {
        "id": "wyjM6mUj4zYi"
      },
      "execution_count": null,
      "outputs": []
    },
    {
      "cell_type": "code",
      "source": [
        "if 1 in [1,2,3]:\n",
        "    print('List')\n",
        "if 4 not in {1,2,3}:\n",
        "    print('Tuple')\n",
        "if 'apple' in 'pineapple':\n",
        "    print('String')\n"
      ],
      "metadata": {
        "colab": {
          "base_uri": "https://localhost:8080/"
        },
        "id": "p292KMnT7tnT",
        "outputId": "34df1a1e-9523-4700-8f71-03ce04472e29"
      },
      "execution_count": null,
      "outputs": [
        {
          "output_type": "stream",
          "name": "stdout",
          "text": [
            "List\n",
            "Tuple\n",
            "String\n"
          ]
        }
      ]
    },
    {
      "cell_type": "code",
      "source": [
        "#Generators\n",
        "def simple():\n",
        "    yield 1           \n",
        "    yield 2           \n",
        "    yield 3           \n",
        "  \n",
        "x=simple()\n",
        "print(next(x))\n",
        "print(next(x))\n",
        "print(next(x))"
      ],
      "metadata": {
        "colab": {
          "base_uri": "https://localhost:8080/"
        },
        "id": "TuRixp2hBqai",
        "outputId": "44a3861d-37e9-4834-ffb3-791439b67d1b"
      },
      "execution_count": null,
      "outputs": [
        {
          "output_type": "stream",
          "name": "stdout",
          "text": [
            "1\n",
            "2\n",
            "3\n"
          ]
        }
      ]
    },
    {
      "cell_type": "code",
      "source": [
        "def value(n):\n",
        " value=0;\n",
        " while(value<n):\n",
        "   yield \"Hi this is my content\",value\n",
        "   value+=1              \n",
        "x=value(5)\n",
        "print(next(x))\n",
        "print(next(x))\n",
        "print(next(x))\n",
        "print(next(x))"
      ],
      "metadata": {
        "colab": {
          "base_uri": "https://localhost:8080/"
        },
        "id": "4f2Nv1yrCXeQ",
        "outputId": "c403cf83-dc21-4d75-8a31-c0da47376936"
      },
      "execution_count": null,
      "outputs": [
        {
          "output_type": "stream",
          "name": "stdout",
          "text": [
            "('Hi this is my content', 0)\n",
            "('Hi this is my content', 1)\n",
            "('Hi this is my content', 2)\n",
            "('Hi this is my content', 3)\n"
          ]
        }
      ]
    },
    {
      "cell_type": "code",
      "source": [
        "x=sum(x*x for x in range(10))\n",
        "print(x)"
      ],
      "metadata": {
        "colab": {
          "base_uri": "https://localhost:8080/"
        },
        "id": "XW2hz7xSVA-5",
        "outputId": "c19454ad-2781-428a-d6a6-550a4c6d593c"
      },
      "execution_count": null,
      "outputs": [
        {
          "output_type": "stream",
          "name": "stdout",
          "text": [
            "285\n"
          ]
        }
      ]
    },
    {
      "cell_type": "code",
      "source": [
        "x=sum(x*x for x in range(10,20,2))\n",
        "print(x)"
      ],
      "metadata": {
        "colab": {
          "base_uri": "https://localhost:8080/"
        },
        "id": "mdQuC9SjYRXO",
        "outputId": "7cf23280-bd7a-4751-8f86-d638d0d41931"
      },
      "execution_count": null,
      "outputs": [
        {
          "output_type": "stream",
          "name": "stdout",
          "text": [
            "1020\n"
          ]
        }
      ]
    },
    {
      "cell_type": "code",
      "source": [
        "first=[1,2,3]\n",
        "second=[5,6,7]\n",
        "pin=sum(x*y for x,y in zip(first,second))\n",
        "print(pin)"
      ],
      "metadata": {
        "colab": {
          "base_uri": "https://localhost:8080/"
        },
        "id": "Hna7o4TGZCED",
        "outputId": "8e3d70e4-c45e-4a2d-88e7-0896bb2fa948"
      },
      "execution_count": null,
      "outputs": [
        {
          "output_type": "stream",
          "name": "stdout",
          "text": [
            "355816800\n"
          ]
        }
      ]
    },
    {
      "cell_type": "code",
      "source": [
        "x=20\n",
        "y=30\n",
        "k=max(x,y)\n",
        "print(k)"
      ],
      "metadata": {
        "colab": {
          "base_uri": "https://localhost:8080/"
        },
        "id": "mT9tJJgwciDm",
        "outputId": "2f6cce5d-e2f5-4180-99d5-e49049b6b933"
      },
      "execution_count": null,
      "outputs": [
        {
          "output_type": "stream",
          "name": "stdout",
          "text": [
            "30\n"
          ]
        }
      ]
    },
    {
      "cell_type": "code",
      "source": [
        "num = 10\n",
        "if num in range(1, 11):\n",
        "    print(\"The number is within the range of 1 to 10\")\n",
        "else:\n",
        "    print(\"The number is outside the range of 1 to 10\")"
      ],
      "metadata": {
        "id": "26Phmo4wcoL5",
        "colab": {
          "base_uri": "https://localhost:8080/"
        },
        "outputId": "c5e74ac0-e0aa-48ee-d1ca-8cee14ebef52"
      },
      "execution_count": 107,
      "outputs": [
        {
          "output_type": "stream",
          "name": "stdout",
          "text": [
            "The number is within the range of 1 to 10\n"
          ]
        }
      ]
    },
    {
      "cell_type": "code",
      "source": [
        "#issuperset\n",
        "set1 = {1, 2, 3}\n",
        "set2 = {3, 4, 5}\n",
        "union_set={1, 2, 3, 4, 5}\n",
        "print(union_set.issuperset(set1))\n",
        "print(union_set.issuperset(set2)) "
      ],
      "metadata": {
        "colab": {
          "base_uri": "https://localhost:8080/"
        },
        "id": "kVuvjFDz5OXM",
        "outputId": "658d18ee-7d81-40a3-d4d7-32ac84559858"
      },
      "execution_count": 108,
      "outputs": [
        {
          "output_type": "stream",
          "name": "stdout",
          "text": [
            "True\n",
            "True\n"
          ]
        }
      ]
    },
    {
      "cell_type": "code",
      "source": [
        "#union of two sets\n",
        "set1 = {1, 2, 3}\n",
        "set2 = {3, 4, 5}\n",
        "union_set = set1.union(set2)\n",
        "print(union_set) "
      ],
      "metadata": {
        "colab": {
          "base_uri": "https://localhost:8080/"
        },
        "id": "CHtjvhjD5RXq",
        "outputId": "acabf92d-c186-41a7-d0fa-8c4459b78777"
      },
      "execution_count": 110,
      "outputs": [
        {
          "output_type": "stream",
          "name": "stdout",
          "text": [
            "{1, 2, 3, 4, 5}\n"
          ]
        }
      ]
    },
    {
      "cell_type": "code",
      "source": [
        "#intersection\n",
        "intersection_set = set1.intersection(set2)\n",
        "print(intersection_set) "
      ],
      "metadata": {
        "colab": {
          "base_uri": "https://localhost:8080/"
        },
        "id": "U7WJ6qVZ5Xlz",
        "outputId": "3d3fb04c-e61b-49ee-d717-691816877d8a"
      },
      "execution_count": 111,
      "outputs": [
        {
          "output_type": "stream",
          "name": "stdout",
          "text": [
            "{3}\n"
          ]
        }
      ]
    },
    {
      "cell_type": "code",
      "source": [
        "# difference\n",
        "difference_set = set1.difference(set2)\n",
        "print(difference_set) "
      ],
      "metadata": {
        "colab": {
          "base_uri": "https://localhost:8080/"
        },
        "id": "mWlEE9qI5aGH",
        "outputId": "02d6352d-15b8-454b-9079-b843c9301769"
      },
      "execution_count": 112,
      "outputs": [
        {
          "output_type": "stream",
          "name": "stdout",
          "text": [
            "{1, 2}\n"
          ]
        }
      ]
    },
    {
      "cell_type": "code",
      "source": [
        "#symmetric difference(omits intersection)\n",
        "symmetric_difference_set = set1.symmetric_difference(set2)\n",
        "print(symmetric_difference_set)"
      ],
      "metadata": {
        "colab": {
          "base_uri": "https://localhost:8080/"
        },
        "id": "wLPNJAD65dfG",
        "outputId": "4550c42a-f9a1-4b46-fd40-e3b24ddde328"
      },
      "execution_count": 113,
      "outputs": [
        {
          "output_type": "stream",
          "name": "stdout",
          "text": [
            "{1, 2, 4, 5}\n"
          ]
        }
      ]
    },
    {
      "cell_type": "code",
      "source": [
        "#String methods\n",
        "my_string = \"   Hello, World!   \"\n",
        "print(my_string.strip())        \n",
        "print(my_string.upper())         \n",
        "print(my_string.lower())         \n",
        "print(my_string.replace(\"l\", \"x\")) \n",
        "print(my_string.split(\",\"))     "
      ],
      "metadata": {
        "colab": {
          "base_uri": "https://localhost:8080/"
        },
        "id": "NLDpR9Jm5fnU",
        "outputId": "c67d00e9-03a5-4c2b-c8f0-15fd726a4b78"
      },
      "execution_count": 114,
      "outputs": [
        {
          "output_type": "stream",
          "name": "stdout",
          "text": [
            "Hello, World!\n",
            "   HELLO, WORLD!   \n",
            "   hello, world!   \n",
            "   Hexxo, Worxd!   \n",
            "['   Hello', ' World!   ']\n"
          ]
        }
      ]
    },
    {
      "cell_type": "code",
      "source": [
        "#String length\n",
        "s = 'supercalifragilisticexpialidocious'\n",
        "len(s)"
      ],
      "metadata": {
        "colab": {
          "base_uri": "https://localhost:8080/"
        },
        "id": "e4xok7hZ5lfC",
        "outputId": "9430c9d4-0caf-4634-fc11-72d6391547ba"
      },
      "execution_count": 115,
      "outputs": [
        {
          "output_type": "execute_result",
          "data": {
            "text/plain": [
              "34"
            ]
          },
          "metadata": {},
          "execution_count": 115
        }
      ]
    },
    {
      "cell_type": "code",
      "source": [
        "#sets\n",
        "# creating a set\n",
        "my_set = {1, 2, 3, 4}\n",
        "# add\n",
        "my_set.add(5)\n",
        "print(my_set) "
      ],
      "metadata": {
        "colab": {
          "base_uri": "https://localhost:8080/"
        },
        "id": "qYE9WnhN5l5P",
        "outputId": "06f69afa-fdec-4a65-bce2-e9b86d076caf"
      },
      "execution_count": 121,
      "outputs": [
        {
          "output_type": "stream",
          "name": "stdout",
          "text": [
            "{1, 2, 3, 4, 5}\n"
          ]
        }
      ]
    },
    {
      "cell_type": "code",
      "source": [
        "# remove\n",
        "my_set = {1, 2, 3, 4,5}\n",
        "my_set.remove(4)\n",
        "print(my_set) "
      ],
      "metadata": {
        "colab": {
          "base_uri": "https://localhost:8080/"
        },
        "id": "bOMCCJYv6MX8",
        "outputId": "30510474-b45a-4589-9dbd-b3b204cf88f9"
      },
      "execution_count": 117,
      "outputs": [
        {
          "output_type": "stream",
          "name": "stdout",
          "text": [
            "{1, 2, 3, 5}\n"
          ]
        }
      ]
    },
    {
      "cell_type": "code",
      "source": [
        "# checking if an element is in a set\n",
        "print(3 in my_set) \n",
        "print(4 in my_set) "
      ],
      "metadata": {
        "colab": {
          "base_uri": "https://localhost:8080/"
        },
        "id": "r5xqcq9l6Rm2",
        "outputId": "58979432-08e9-4827-ca24-e1a886fc6e4b"
      },
      "execution_count": 118,
      "outputs": [
        {
          "output_type": "stream",
          "name": "stdout",
          "text": [
            "True\n",
            "False\n"
          ]
        }
      ]
    },
    {
      "cell_type": "code",
      "source": [],
      "metadata": {
        "id": "zplSCpKp6Um2"
      },
      "execution_count": null,
      "outputs": []
    },
    {
      "cell_type": "code",
      "source": [
        "#length\n",
        "my_set = {1, 2, 3, 5}\n",
        "print(len(my_set))"
      ],
      "metadata": {
        "colab": {
          "base_uri": "https://localhost:8080/"
        },
        "id": "zIBYTjuj6Wsq",
        "outputId": "aabab332-ee9e-4cd5-f9fb-ae4166fbc2a8"
      },
      "execution_count": 119,
      "outputs": [
        {
          "output_type": "stream",
          "name": "stdout",
          "text": [
            "4\n"
          ]
        }
      ]
    },
    {
      "cell_type": "code",
      "source": [
        "# copy\n",
        "my_set = {1, 2, 3, 5}\n",
        "new_set = my_set.copy()\n",
        "print(new_set) "
      ],
      "metadata": {
        "colab": {
          "base_uri": "https://localhost:8080/"
        },
        "id": "F34cCjvC6XPf",
        "outputId": "86ab2383-7798-476e-e83b-6a8e281153b8"
      },
      "execution_count": 120,
      "outputs": [
        {
          "output_type": "stream",
          "name": "stdout",
          "text": [
            "{1, 2, 3, 5}\n"
          ]
        }
      ]
    },
    {
      "cell_type": "code",
      "source": [
        "# clear\n",
        "my_set = {1, 2, 3, 5}\n",
        "my_set.clear()\n",
        "print(my_set) "
      ],
      "metadata": {
        "id": "9Y96m6bp6Z4w"
      },
      "execution_count": null,
      "outputs": []
    },
    {
      "cell_type": "code",
      "source": [
        "for i in range(10):\n",
        "        try:\n",
        "           x = int(input(\"Enter the number\"))\n",
        "           break\n",
        "        except ValueError:\n",
        "           print(\"It's not a valid number.Try again...\")"
      ],
      "metadata": {
        "colab": {
          "base_uri": "https://localhost:8080/"
        },
        "id": "NG4ju9906zer",
        "outputId": "e8cb3b83-7469-4322-9dcd-d748a7a98077"
      },
      "execution_count": 129,
      "outputs": [
        {
          "output_type": "stream",
          "name": "stdout",
          "text": [
            "Enter the numberdfs\n",
            "It's not a valid number.Try again...\n",
            "Enter the number\n",
            "It's not a valid number.Try again...\n",
            "Enter the numbergfhfd\n",
            "It's not a valid number.Try again...\n",
            "Enter the numberfrgf\n",
            "It's not a valid number.Try again...\n",
            "Enter the numbergfhfd\n",
            "It's not a valid number.Try again...\n",
            "Enter the numberfgdf\n",
            "It's not a valid number.Try again...\n",
            "Enter the numbergfdgfd\n",
            "It's not a valid number.Try again...\n",
            "Enter the numbergdfg\n",
            "It's not a valid number.Try again...\n",
            "Enter the numberdgfg\n",
            "It's not a valid number.Try again...\n",
            "Enter the numberdgdg\n",
            "It's not a valid number.Try again...\n"
          ]
        }
      ]
    },
    {
      "cell_type": "code",
      "source": [
        "try:\n",
        "    numerator = 5\n",
        "    denominator = 0\n",
        "    result = numerator/denominator\n",
        "    print(result)\n",
        "except:\n",
        "    print(\"Error:\") \n",
        "finally:\n",
        "    print(\"This is final statement.\")"
      ],
      "metadata": {
        "colab": {
          "base_uri": "https://localhost:8080/"
        },
        "id": "67be3bvf60Jp",
        "outputId": "25b7b796-c0bc-4025-8e83-6475ac03418a"
      },
      "execution_count": 131,
      "outputs": [
        {
          "output_type": "stream",
          "name": "stdout",
          "text": [
            "Error:\n"
          ]
        }
      ]
    },
    {
      "cell_type": "code",
      "source": [
        "try:\n",
        "    evennum=[2,4,6,8]\n",
        "    print(evennum[5])\n",
        "except (RuntimeError, TypeError, NameError,ZeroDivisionError):\n",
        "     pass\n",
        "except IndexError:\n",
        "    print(\"Index out of range.\")\n"
      ],
      "metadata": {
        "colab": {
          "base_uri": "https://localhost:8080/"
        },
        "id": "EQlgL3C4-P3k",
        "outputId": "73d61d49-abee-4c13-a0cc-3f4b238074dc"
      },
      "execution_count": 134,
      "outputs": [
        {
          "output_type": "stream",
          "name": "stdout",
          "text": [
            "Index out of range.\n"
          ]
        }
      ]
    },
    {
      "cell_type": "code",
      "source": [
        "try:\n",
        "    num = int(input(\"Enter the number: \"))\n",
        "    assert num%2 == 0\n",
        "except:\n",
        "    print(\"Not an even number!\")\n",
        "else:\n",
        "    reciprocal = 1/num\n",
        "    print(reciprocal)"
      ],
      "metadata": {
        "colab": {
          "base_uri": "https://localhost:8080/"
        },
        "id": "kzr0z-Pi_HcD",
        "outputId": "8dca04d7-682c-4d47-cf36-19d9398d9a2b"
      },
      "execution_count": 136,
      "outputs": [
        {
          "output_type": "stream",
          "name": "stdout",
          "text": [
            "Enter the number: 55\n",
            "Not an even number!\n"
          ]
        }
      ]
    },
    {
      "cell_type": "code",
      "source": [],
      "metadata": {
        "id": "0VjxTlOkBth0"
      },
      "execution_count": null,
      "outputs": []
    }
  ]
}